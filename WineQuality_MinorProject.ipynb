{
  "nbformat": 4,
  "nbformat_minor": 0,
  "metadata": {
    "colab": {
      "name": "WineQuality_MinorProject.ipynb",
      "provenance": [],
      "collapsed_sections": []
    },
    "kernelspec": {
      "name": "python3",
      "display_name": "Python 3"
    },
    "language_info": {
      "name": "python"
    }
  },
  "cells": [
    {
      "cell_type": "code",
      "metadata": {
        "id": "YYiAiP_JO8Xq"
      },
      "source": [
        "(import pandas as pd\n",
        "import matplotlib.pyplot as plt\n",
        "import seaborn as sns\n",
        "from sklearn.model_selection import train_test_split\n",
        "from sklearn.ensemble import RandomForestClassifier\n",
        "from sklearn.metrics import accuracy_score\n",
        "import numpy as np)"
      ],
      "execution_count": 49,
      "outputs": []
    },
    {
      "cell_type": "code",
      "metadata": {
        "id": "Unve4I3CRB9I"
      },
      "source": [
        "df = pd.read_csv('/content/drive/MyDrive/Datasets/winequality-red.csv')"
      ],
      "execution_count": 50,
      "outputs": []
    },
    {
      "cell_type": "code",
      "metadata": {
        "colab": {
          "base_uri": "https://localhost:8080/",
          "height": 238
        },
        "id": "Y7ph0XEsRCAl",
        "outputId": "79ab61f5-0c7c-4207-89ba-767325f86496"
      },
      "source": [
        "df.head()"
      ],
      "execution_count": 51,
      "outputs": [
        {
          "output_type": "execute_result",
          "data": {
            "text/html": [
              "<div>\n",
              "<style scoped>\n",
              "    .dataframe tbody tr th:only-of-type {\n",
              "        vertical-align: middle;\n",
              "    }\n",
              "\n",
              "    .dataframe tbody tr th {\n",
              "        vertical-align: top;\n",
              "    }\n",
              "\n",
              "    .dataframe thead th {\n",
              "        text-align: right;\n",
              "    }\n",
              "</style>\n",
              "<table border=\"1\" class=\"dataframe\">\n",
              "  <thead>\n",
              "    <tr style=\"text-align: right;\">\n",
              "      <th></th>\n",
              "      <th>fixed acidity</th>\n",
              "      <th>volatile acidity</th>\n",
              "      <th>citric acid</th>\n",
              "      <th>residual sugar</th>\n",
              "      <th>chlorides</th>\n",
              "      <th>free sulfur dioxide</th>\n",
              "      <th>total sulfur dioxide</th>\n",
              "      <th>density</th>\n",
              "      <th>pH</th>\n",
              "      <th>sulphates</th>\n",
              "      <th>alcohol</th>\n",
              "      <th>quality</th>\n",
              "    </tr>\n",
              "  </thead>\n",
              "  <tbody>\n",
              "    <tr>\n",
              "      <th>0</th>\n",
              "      <td>7.4</td>\n",
              "      <td>0.70</td>\n",
              "      <td>0.00</td>\n",
              "      <td>1.9</td>\n",
              "      <td>0.076</td>\n",
              "      <td>11.0</td>\n",
              "      <td>34.0</td>\n",
              "      <td>0.9978</td>\n",
              "      <td>3.51</td>\n",
              "      <td>0.56</td>\n",
              "      <td>9.4</td>\n",
              "      <td>5</td>\n",
              "    </tr>\n",
              "    <tr>\n",
              "      <th>1</th>\n",
              "      <td>7.8</td>\n",
              "      <td>0.88</td>\n",
              "      <td>0.00</td>\n",
              "      <td>2.6</td>\n",
              "      <td>0.098</td>\n",
              "      <td>25.0</td>\n",
              "      <td>67.0</td>\n",
              "      <td>0.9968</td>\n",
              "      <td>3.20</td>\n",
              "      <td>0.68</td>\n",
              "      <td>9.8</td>\n",
              "      <td>5</td>\n",
              "    </tr>\n",
              "    <tr>\n",
              "      <th>2</th>\n",
              "      <td>7.8</td>\n",
              "      <td>0.76</td>\n",
              "      <td>0.04</td>\n",
              "      <td>2.3</td>\n",
              "      <td>0.092</td>\n",
              "      <td>15.0</td>\n",
              "      <td>54.0</td>\n",
              "      <td>0.9970</td>\n",
              "      <td>3.26</td>\n",
              "      <td>0.65</td>\n",
              "      <td>9.8</td>\n",
              "      <td>5</td>\n",
              "    </tr>\n",
              "    <tr>\n",
              "      <th>3</th>\n",
              "      <td>11.2</td>\n",
              "      <td>0.28</td>\n",
              "      <td>0.56</td>\n",
              "      <td>1.9</td>\n",
              "      <td>0.075</td>\n",
              "      <td>17.0</td>\n",
              "      <td>60.0</td>\n",
              "      <td>0.9980</td>\n",
              "      <td>3.16</td>\n",
              "      <td>0.58</td>\n",
              "      <td>9.8</td>\n",
              "      <td>6</td>\n",
              "    </tr>\n",
              "    <tr>\n",
              "      <th>4</th>\n",
              "      <td>7.4</td>\n",
              "      <td>0.70</td>\n",
              "      <td>0.00</td>\n",
              "      <td>1.9</td>\n",
              "      <td>0.076</td>\n",
              "      <td>11.0</td>\n",
              "      <td>34.0</td>\n",
              "      <td>0.9978</td>\n",
              "      <td>3.51</td>\n",
              "      <td>0.56</td>\n",
              "      <td>9.4</td>\n",
              "      <td>5</td>\n",
              "    </tr>\n",
              "  </tbody>\n",
              "</table>\n",
              "</div>"
            ],
            "text/plain": [
              "   fixed acidity  volatile acidity  citric acid  ...  sulphates  alcohol  quality\n",
              "0            7.4              0.70         0.00  ...       0.56      9.4        5\n",
              "1            7.8              0.88         0.00  ...       0.68      9.8        5\n",
              "2            7.8              0.76         0.04  ...       0.65      9.8        5\n",
              "3           11.2              0.28         0.56  ...       0.58      9.8        6\n",
              "4            7.4              0.70         0.00  ...       0.56      9.4        5\n",
              "\n",
              "[5 rows x 12 columns]"
            ]
          },
          "metadata": {},
          "execution_count": 51
        }
      ]
    },
    {
      "cell_type": "code",
      "metadata": {
        "colab": {
          "base_uri": "https://localhost:8080/"
        },
        "id": "OGiitkOVRCDm",
        "outputId": "da72e59b-fd57-4a04-ba9b-5c330e4d32e8"
      },
      "source": [
        "df.info()"
      ],
      "execution_count": 52,
      "outputs": [
        {
          "output_type": "stream",
          "text": [
            "<class 'pandas.core.frame.DataFrame'>\n",
            "RangeIndex: 1599 entries, 0 to 1598\n",
            "Data columns (total 12 columns):\n",
            " #   Column                Non-Null Count  Dtype  \n",
            "---  ------                --------------  -----  \n",
            " 0   fixed acidity         1599 non-null   float64\n",
            " 1   volatile acidity      1599 non-null   float64\n",
            " 2   citric acid           1599 non-null   float64\n",
            " 3   residual sugar        1599 non-null   float64\n",
            " 4   chlorides             1599 non-null   float64\n",
            " 5   free sulfur dioxide   1599 non-null   float64\n",
            " 6   total sulfur dioxide  1599 non-null   float64\n",
            " 7   density               1599 non-null   float64\n",
            " 8   pH                    1599 non-null   float64\n",
            " 9   sulphates             1599 non-null   float64\n",
            " 10  alcohol               1599 non-null   float64\n",
            " 11  quality               1599 non-null   int64  \n",
            "dtypes: float64(11), int64(1)\n",
            "memory usage: 150.0 KB\n"
          ],
          "name": "stdout"
        }
      ]
    },
    {
      "cell_type": "code",
      "metadata": {
        "colab": {
          "base_uri": "https://localhost:8080/"
        },
        "id": "L7uInrQpRCG9",
        "outputId": "518f866a-c0f9-40d9-f00a-2df7208e777d"
      },
      "source": [
        "df.shape"
      ],
      "execution_count": 53,
      "outputs": [
        {
          "output_type": "execute_result",
          "data": {
            "text/plain": [
              "(1599, 12)"
            ]
          },
          "metadata": {},
          "execution_count": 53
        }
      ]
    },
    {
      "cell_type": "code",
      "metadata": {
        "colab": {
          "base_uri": "https://localhost:8080/",
          "height": 351
        },
        "id": "KtRLyZqR61Bg",
        "outputId": "336a61a9-da50-42d3-aa58-e3fada786225"
      },
      "source": [
        "# statistical measures of the dataset\n",
        "df.describe()"
      ],
      "execution_count": 54,
      "outputs": [
        {
          "output_type": "execute_result",
          "data": {
            "text/html": [
              "<div>\n",
              "<style scoped>\n",
              "    .dataframe tbody tr th:only-of-type {\n",
              "        vertical-align: middle;\n",
              "    }\n",
              "\n",
              "    .dataframe tbody tr th {\n",
              "        vertical-align: top;\n",
              "    }\n",
              "\n",
              "    .dataframe thead th {\n",
              "        text-align: right;\n",
              "    }\n",
              "</style>\n",
              "<table border=\"1\" class=\"dataframe\">\n",
              "  <thead>\n",
              "    <tr style=\"text-align: right;\">\n",
              "      <th></th>\n",
              "      <th>fixed acidity</th>\n",
              "      <th>volatile acidity</th>\n",
              "      <th>citric acid</th>\n",
              "      <th>residual sugar</th>\n",
              "      <th>chlorides</th>\n",
              "      <th>free sulfur dioxide</th>\n",
              "      <th>total sulfur dioxide</th>\n",
              "      <th>density</th>\n",
              "      <th>pH</th>\n",
              "      <th>sulphates</th>\n",
              "      <th>alcohol</th>\n",
              "      <th>quality</th>\n",
              "    </tr>\n",
              "  </thead>\n",
              "  <tbody>\n",
              "    <tr>\n",
              "      <th>count</th>\n",
              "      <td>1599.000000</td>\n",
              "      <td>1599.000000</td>\n",
              "      <td>1599.000000</td>\n",
              "      <td>1599.000000</td>\n",
              "      <td>1599.000000</td>\n",
              "      <td>1599.000000</td>\n",
              "      <td>1599.000000</td>\n",
              "      <td>1599.000000</td>\n",
              "      <td>1599.000000</td>\n",
              "      <td>1599.000000</td>\n",
              "      <td>1599.000000</td>\n",
              "      <td>1599.000000</td>\n",
              "    </tr>\n",
              "    <tr>\n",
              "      <th>mean</th>\n",
              "      <td>8.319637</td>\n",
              "      <td>0.527821</td>\n",
              "      <td>0.270976</td>\n",
              "      <td>2.538806</td>\n",
              "      <td>0.087467</td>\n",
              "      <td>15.874922</td>\n",
              "      <td>46.467792</td>\n",
              "      <td>0.996747</td>\n",
              "      <td>3.311113</td>\n",
              "      <td>0.658149</td>\n",
              "      <td>10.422983</td>\n",
              "      <td>5.636023</td>\n",
              "    </tr>\n",
              "    <tr>\n",
              "      <th>std</th>\n",
              "      <td>1.741096</td>\n",
              "      <td>0.179060</td>\n",
              "      <td>0.194801</td>\n",
              "      <td>1.409928</td>\n",
              "      <td>0.047065</td>\n",
              "      <td>10.460157</td>\n",
              "      <td>32.895324</td>\n",
              "      <td>0.001887</td>\n",
              "      <td>0.154386</td>\n",
              "      <td>0.169507</td>\n",
              "      <td>1.065668</td>\n",
              "      <td>0.807569</td>\n",
              "    </tr>\n",
              "    <tr>\n",
              "      <th>min</th>\n",
              "      <td>4.600000</td>\n",
              "      <td>0.120000</td>\n",
              "      <td>0.000000</td>\n",
              "      <td>0.900000</td>\n",
              "      <td>0.012000</td>\n",
              "      <td>1.000000</td>\n",
              "      <td>6.000000</td>\n",
              "      <td>0.990070</td>\n",
              "      <td>2.740000</td>\n",
              "      <td>0.330000</td>\n",
              "      <td>8.400000</td>\n",
              "      <td>3.000000</td>\n",
              "    </tr>\n",
              "    <tr>\n",
              "      <th>25%</th>\n",
              "      <td>7.100000</td>\n",
              "      <td>0.390000</td>\n",
              "      <td>0.090000</td>\n",
              "      <td>1.900000</td>\n",
              "      <td>0.070000</td>\n",
              "      <td>7.000000</td>\n",
              "      <td>22.000000</td>\n",
              "      <td>0.995600</td>\n",
              "      <td>3.210000</td>\n",
              "      <td>0.550000</td>\n",
              "      <td>9.500000</td>\n",
              "      <td>5.000000</td>\n",
              "    </tr>\n",
              "    <tr>\n",
              "      <th>50%</th>\n",
              "      <td>7.900000</td>\n",
              "      <td>0.520000</td>\n",
              "      <td>0.260000</td>\n",
              "      <td>2.200000</td>\n",
              "      <td>0.079000</td>\n",
              "      <td>14.000000</td>\n",
              "      <td>38.000000</td>\n",
              "      <td>0.996750</td>\n",
              "      <td>3.310000</td>\n",
              "      <td>0.620000</td>\n",
              "      <td>10.200000</td>\n",
              "      <td>6.000000</td>\n",
              "    </tr>\n",
              "    <tr>\n",
              "      <th>75%</th>\n",
              "      <td>9.200000</td>\n",
              "      <td>0.640000</td>\n",
              "      <td>0.420000</td>\n",
              "      <td>2.600000</td>\n",
              "      <td>0.090000</td>\n",
              "      <td>21.000000</td>\n",
              "      <td>62.000000</td>\n",
              "      <td>0.997835</td>\n",
              "      <td>3.400000</td>\n",
              "      <td>0.730000</td>\n",
              "      <td>11.100000</td>\n",
              "      <td>6.000000</td>\n",
              "    </tr>\n",
              "    <tr>\n",
              "      <th>max</th>\n",
              "      <td>15.900000</td>\n",
              "      <td>1.580000</td>\n",
              "      <td>1.000000</td>\n",
              "      <td>15.500000</td>\n",
              "      <td>0.611000</td>\n",
              "      <td>72.000000</td>\n",
              "      <td>289.000000</td>\n",
              "      <td>1.003690</td>\n",
              "      <td>4.010000</td>\n",
              "      <td>2.000000</td>\n",
              "      <td>14.900000</td>\n",
              "      <td>8.000000</td>\n",
              "    </tr>\n",
              "  </tbody>\n",
              "</table>\n",
              "</div>"
            ],
            "text/plain": [
              "       fixed acidity  volatile acidity  ...      alcohol      quality\n",
              "count    1599.000000       1599.000000  ...  1599.000000  1599.000000\n",
              "mean        8.319637          0.527821  ...    10.422983     5.636023\n",
              "std         1.741096          0.179060  ...     1.065668     0.807569\n",
              "min         4.600000          0.120000  ...     8.400000     3.000000\n",
              "25%         7.100000          0.390000  ...     9.500000     5.000000\n",
              "50%         7.900000          0.520000  ...    10.200000     6.000000\n",
              "75%         9.200000          0.640000  ...    11.100000     6.000000\n",
              "max        15.900000          1.580000  ...    14.900000     8.000000\n",
              "\n",
              "[8 rows x 12 columns]"
            ]
          },
          "metadata": {},
          "execution_count": 54
        }
      ]
    },
    {
      "cell_type": "code",
      "metadata": {
        "colab": {
          "base_uri": "https://localhost:8080/",
          "height": 350
        },
        "id": "ktHG6oYnRCKb",
        "outputId": "3b4f8663-d3ab-41df-dc73-7a8e9888cb69"
      },
      "source": [
        "sns.countplot(df['quality'])"
      ],
      "execution_count": 55,
      "outputs": [
        {
          "output_type": "stream",
          "text": [
            "/usr/local/lib/python3.7/dist-packages/seaborn/_decorators.py:43: FutureWarning: Pass the following variable as a keyword arg: x. From version 0.12, the only valid positional argument will be `data`, and passing other arguments without an explicit keyword will result in an error or misinterpretation.\n",
            "  FutureWarning\n"
          ],
          "name": "stderr"
        },
        {
          "output_type": "execute_result",
          "data": {
            "text/plain": [
              "<matplotlib.axes._subplots.AxesSubplot at 0x7fbdb4330d50>"
            ]
          },
          "metadata": {},
          "execution_count": 55
        },
        {
          "output_type": "display_data",
          "data": {
            "image/png": "[encoded data removed]",
            "text/plain": [
              "<Figure size 432x288 with 1 Axes>"
            ]
          },
          "metadata": {
            "needs_background": "light"
          }
        }
      ]
    },
    {
      "cell_type": "code",
      "metadata": {
        "colab": {
          "base_uri": "https://localhost:8080/",
          "height": 238
        },
        "id": "oZp-mBko72qS",
        "outputId": "e36ddbd7-f3ba-40c6-b14d-02366cf3deed"
      },
      "source": [
        "df.head()"
      ],
      "execution_count": 56,
      "outputs": [
        {
          "output_type": "execute_result",
          "data": {
            "text/html": [
              "<div>\n",
              "<style scoped>\n",
              "    .dataframe tbody tr th:only-of-type {\n",
              "        vertical-align: middle;\n",
              "    }\n",
              "\n",
              "    .dataframe tbody tr th {\n",
              "        vertical-align: top;\n",
              "    }\n",
              "\n",
              "    .dataframe thead th {\n",
              "        text-align: right;\n",
              "    }\n",
              "</style>\n",
              "<table border=\"1\" class=\"dataframe\">\n",
              "  <thead>\n",
              "    <tr style=\"text-align: right;\">\n",
              "      <th></th>\n",
              "      <th>fixed acidity</th>\n",
              "      <th>volatile acidity</th>\n",
              "      <th>citric acid</th>\n",
              "      <th>residual sugar</th>\n",
              "      <th>chlorides</th>\n",
              "      <th>free sulfur dioxide</th>\n",
              "      <th>total sulfur dioxide</th>\n",
              "      <th>density</th>\n",
              "      <th>pH</th>\n",
              "      <th>sulphates</th>\n",
              "      <th>alcohol</th>\n",
              "      <th>quality</th>\n",
              "    </tr>\n",
              "  </thead>\n",
              "  <tbody>\n",
              "    <tr>\n",
              "      <th>0</th>\n",
              "      <td>7.4</td>\n",
              "      <td>0.70</td>\n",
              "      <td>0.00</td>\n",
              "      <td>1.9</td>\n",
              "      <td>0.076</td>\n",
              "      <td>11.0</td>\n",
              "      <td>34.0</td>\n",
              "      <td>0.9978</td>\n",
              "      <td>3.51</td>\n",
              "      <td>0.56</td>\n",
              "      <td>9.4</td>\n",
              "      <td>5</td>\n",
              "    </tr>\n",
              "    <tr>\n",
              "      <th>1</th>\n",
              "      <td>7.8</td>\n",
              "      <td>0.88</td>\n",
              "      <td>0.00</td>\n",
              "      <td>2.6</td>\n",
              "      <td>0.098</td>\n",
              "      <td>25.0</td>\n",
              "      <td>67.0</td>\n",
              "      <td>0.9968</td>\n",
              "      <td>3.20</td>\n",
              "      <td>0.68</td>\n",
              "      <td>9.8</td>\n",
              "      <td>5</td>\n",
              "    </tr>\n",
              "    <tr>\n",
              "      <th>2</th>\n",
              "      <td>7.8</td>\n",
              "      <td>0.76</td>\n",
              "      <td>0.04</td>\n",
              "      <td>2.3</td>\n",
              "      <td>0.092</td>\n",
              "      <td>15.0</td>\n",
              "      <td>54.0</td>\n",
              "      <td>0.9970</td>\n",
              "      <td>3.26</td>\n",
              "      <td>0.65</td>\n",
              "      <td>9.8</td>\n",
              "      <td>5</td>\n",
              "    </tr>\n",
              "    <tr>\n",
              "      <th>3</th>\n",
              "      <td>11.2</td>\n",
              "      <td>0.28</td>\n",
              "      <td>0.56</td>\n",
              "      <td>1.9</td>\n",
              "      <td>0.075</td>\n",
              "      <td>17.0</td>\n",
              "      <td>60.0</td>\n",
              "      <td>0.9980</td>\n",
              "      <td>3.16</td>\n",
              "      <td>0.58</td>\n",
              "      <td>9.8</td>\n",
              "      <td>6</td>\n",
              "    </tr>\n",
              "    <tr>\n",
              "      <th>4</th>\n",
              "      <td>7.4</td>\n",
              "      <td>0.70</td>\n",
              "      <td>0.00</td>\n",
              "      <td>1.9</td>\n",
              "      <td>0.076</td>\n",
              "      <td>11.0</td>\n",
              "      <td>34.0</td>\n",
              "      <td>0.9978</td>\n",
              "      <td>3.51</td>\n",
              "      <td>0.56</td>\n",
              "      <td>9.4</td>\n",
              "      <td>5</td>\n",
              "    </tr>\n",
              "  </tbody>\n",
              "</table>\n",
              "</div>"
            ],
            "text/plain": [
              "   fixed acidity  volatile acidity  citric acid  ...  sulphates  alcohol  quality\n",
              "0            7.4              0.70         0.00  ...       0.56      9.4        5\n",
              "1            7.8              0.88         0.00  ...       0.68      9.8        5\n",
              "2            7.8              0.76         0.04  ...       0.65      9.8        5\n",
              "3           11.2              0.28         0.56  ...       0.58      9.8        6\n",
              "4            7.4              0.70         0.00  ...       0.56      9.4        5\n",
              "\n",
              "[5 rows x 12 columns]"
            ]
          },
          "metadata": {},
          "execution_count": 56
        }
      ]
    },
    {
      "cell_type": "code",
      "metadata": {
        "colab": {
          "base_uri": "https://localhost:8080/",
          "height": 299
        },
        "id": "vHdbtr-mRCNk",
        "outputId": "3ce7b76f-d258-47bf-cb00-106fe75865a0"
      },
      "source": [
        "sns.barplot(x = 'quality', y = 'fixed acidity', data=df, palette= 'inferno')\n"
      ],
      "execution_count": 57,
      "outputs": [
        {
          "output_type": "execute_result",
          "data": {
            "text/plain": [
              "<matplotlib.axes._subplots.AxesSubplot at 0x7fbdab8aa750>"
            ]
          },
          "metadata": {},
          "execution_count": 57
        },
        {
          "output_type": "display_data",
          "data": {
            "image/png": "[encoded data removed]",
            "text/plain": [
              "<Figure size 432x288 with 1 Axes>"
            ]
          },
          "metadata": {
            "needs_background": "light"
          }
        }
      ]
    },
    {
      "cell_type": "code",
      "metadata": {
        "colab": {
          "base_uri": "https://localhost:8080/",
          "height": 299
        },
        "id": "mDfp87Jb9yk4",
        "outputId": "87d08270-9a9a-4f0a-e084-0d1202a5a80d"
      },
      "source": [
        "sns.barplot(x = 'quality', y = 'citric acid', data=df, palette= 'inferno')\n"
      ],
      "execution_count": 58,
      "outputs": [
        {
          "output_type": "execute_result",
          "data": {
            "text/plain": [
              "<matplotlib.axes._subplots.AxesSubplot at 0x7fbdab847410>"
            ]
          },
          "metadata": {},
          "execution_count": 58
        },
        {
          "output_type": "display_data",
          "data": {
            "image/png": "[encoded data removed]",
            "text/plain": [
              "<Figure size 432x288 with 1 Axes>"
            ]
          },
          "metadata": {
            "needs_background": "light"
          }
        }
      ]
    },
    {
      "cell_type": "code",
      "metadata": {
        "colab": {
          "base_uri": "https://localhost:8080/",
          "height": 296
        },
        "id": "QYvgcu0Z9ywY",
        "outputId": "85853aa6-3e8a-4240-894f-d1851a758131"
      },
      "source": [
        "sns.barplot(x = 'quality', y = 'residual sugar', data=df, palette= 'inferno')\n"
      ],
      "execution_count": 59,
      "outputs": [
        {
          "output_type": "execute_result",
          "data": {
            "text/plain": [
              "<matplotlib.axes._subplots.AxesSubplot at 0x7fbdb5977f10>"
            ]
          },
          "metadata": {},
          "execution_count": 59
        },
        {
          "output_type": "display_data",
          "data": {
            "image/png": "[encoded data removed]",
            "text/plain": [
              "<Figure size 432x288 with 1 Axes>"
            ]
          },
          "metadata": {
            "needs_background": "light"
          }
        }
      ]
    },
    {
      "cell_type": "code",
      "metadata": {
        "colab": {
          "base_uri": "https://localhost:8080/",
          "height": 296
        },
        "id": "e82r3pII9yzt",
        "outputId": "c4ea9a1c-9230-47ec-bc3c-feac1efcd42e"
      },
      "source": [
        "sns.barplot(x = 'quality', y = 'chlorides', data=df, palette= 'inferno')\n"
      ],
      "execution_count": 60,
      "outputs": [
        {
          "output_type": "execute_result",
          "data": {
            "text/plain": [
              "<matplotlib.axes._subplots.AxesSubplot at 0x7fbdaba73610>"
            ]
          },
          "metadata": {},
          "execution_count": 60
        },
        {
          "output_type": "display_data",
          "data": {
            "image/png": "[encoded data removed]",
            "text/plain": [
              "<Figure size 432x288 with 1 Axes>"
            ]
          },
          "metadata": {
            "needs_background": "light"
          }
        }
      ]
    },
    {
      "cell_type": "code",
      "metadata": {
        "colab": {
          "base_uri": "https://localhost:8080/",
          "height": 296
        },
        "id": "NeiQif-89y22",
        "outputId": "728ace01-ec82-4157-942f-390cfc654557"
      },
      "source": [
        "sns.barplot(x = 'quality', y = 'free sulfur dioxide', data=df, palette= 'inferno')\n"
      ],
      "execution_count": 61,
      "outputs": [
        {
          "output_type": "execute_result",
          "data": {
            "text/plain": [
              "<matplotlib.axes._subplots.AxesSubplot at 0x7fbdab7bbcd0>"
            ]
          },
          "metadata": {},
          "execution_count": 61
        },
        {
          "output_type": "display_data",
          "data": {
            "image/png": "[encoded data removed]",
            "text/plain": [
              "<Figure size 432x288 with 1 Axes>"
            ]
          },
          "metadata": {
            "needs_background": "light"
          }
        }
      ]
    },
    {
      "cell_type": "code",
      "metadata": {
        "colab": {
          "base_uri": "https://localhost:8080/",
          "height": 296
        },
        "id": "gbKkBN7B9y5y",
        "outputId": "f805c2a5-1d3f-4e64-85c3-7e1892a9978a"
      },
      "source": [
        "sns.barplot(x = 'quality', y = 'total sulfur dioxide', data=df, palette= 'inferno')\n"
      ],
      "execution_count": 62,
      "outputs": [
        {
          "output_type": "execute_result",
          "data": {
            "text/plain": [
              "<matplotlib.axes._subplots.AxesSubplot at 0x7fbdab754f10>"
            ]
          },
          "metadata": {},
          "execution_count": 62
        },
        {
          "output_type": "display_data",
          "data": {
            "image/png": "[encoded data removed]",
            "text/plain": [
              "<Figure size 432x288 with 1 Axes>"
            ]
          },
          "metadata": {
            "needs_background": "light"
          }
        }
      ]
    },
    {
      "cell_type": "code",
      "metadata": {
        "colab": {
          "base_uri": "https://localhost:8080/",
          "height": 296
        },
        "id": "wzPPNDKg9y9R",
        "outputId": "04a80dc3-fc0f-49bf-9323-82f40d0c4709"
      },
      "source": [
        "sns.barplot(x = 'quality', y = 'density', data=df, palette= 'inferno')\n"
      ],
      "execution_count": 63,
      "outputs": [
        {
          "output_type": "execute_result",
          "data": {
            "text/plain": [
              "<matplotlib.axes._subplots.AxesSubplot at 0x7fbdab65f450>"
            ]
          },
          "metadata": {},
          "execution_count": 63
        },
        {
          "output_type": "display_data",
          "data": {
            "image/png": "[encoded data removed]",
            "text/plain": [
              "<Figure size 432x288 with 1 Axes>"
            ]
          },
          "metadata": {
            "needs_background": "light"
          }
        }
      ]
    },
    {
      "cell_type": "code",
      "metadata": {
        "colab": {
          "base_uri": "https://localhost:8080/",
          "height": 296
        },
        "id": "QwTCD4kS9zAQ",
        "outputId": "edb0fea3-d018-4440-95cb-087dc44c3667"
      },
      "source": [
        "sns.barplot(x = 'quality', y = 'pH', data=df, palette= 'inferno')\n"
      ],
      "execution_count": 64,
      "outputs": [
        {
          "output_type": "execute_result",
          "data": {
            "text/plain": [
              "<matplotlib.axes._subplots.AxesSubplot at 0x7fbdab65ab50>"
            ]
          },
          "metadata": {},
          "execution_count": 64
        },
        {
          "output_type": "display_data",
          "data": {
            "image/png": "[encoded data removed]",
            "text/plain": [
              "<Figure size 432x288 with 1 Axes>"
            ]
          },
          "metadata": {
            "needs_background": "light"
          }
        }
      ]
    },
    {
      "cell_type": "code",
      "metadata": {
        "colab": {
          "base_uri": "https://localhost:8080/",
          "height": 296
        },
        "id": "I-NGKhjf-FpD",
        "outputId": "64187f20-1667-43fa-f284-7f23f8263c3f"
      },
      "source": [
        "sns.barplot(x = 'quality', y = 'sulphates', data=df, palette= 'inferno')\n"
      ],
      "execution_count": 65,
      "outputs": [
        {
          "output_type": "execute_result",
          "data": {
            "text/plain": [
              "<matplotlib.axes._subplots.AxesSubplot at 0x7fbdab577c10>"
            ]
          },
          "metadata": {},
          "execution_count": 65
        },
        {
          "output_type": "display_data",
          "data": {
            "image/png": "[encoded data removed]",
            "text/plain": [
              "<Figure size 432x288 with 1 Axes>"
            ]
          },
          "metadata": {
            "needs_background": "light"
          }
        }
      ]
    },
    {
      "cell_type": "code",
      "metadata": {
        "colab": {
          "base_uri": "https://localhost:8080/",
          "height": 296
        },
        "id": "vwFrJ8jt-F40",
        "outputId": "375182ac-a22e-4588-f2bd-cd037158b7ff"
      },
      "source": [
        "sns.barplot(x = 'quality', y = 'alcohol', data=df, palette= 'inferno')"
      ],
      "execution_count": 66,
      "outputs": [
        {
          "output_type": "execute_result",
          "data": {
            "text/plain": [
              "<matplotlib.axes._subplots.AxesSubplot at 0x7fbdab508ed0>"
            ]
          },
          "metadata": {},
          "execution_count": 66
        },
        {
          "output_type": "display_data",
          "data": {
            "image/png": "[encoded data removed]",
            "text/plain": [
              "<Figure size 432x288 with 1 Axes>"
            ]
          },
          "metadata": {
            "needs_background": "light"
          }
        }
      ]
    },
    {
      "cell_type": "code",
      "metadata": {
        "colab": {
          "base_uri": "https://localhost:8080/"
        },
        "id": "CP4p0vpuX2nF",
        "outputId": "f923ab04-f5d2-4915-9ec1-bc14c2be504c"
      },
      "source": [
        "df['quality'].describe()"
      ],
      "execution_count": 67,
      "outputs": [
        {
          "output_type": "execute_result",
          "data": {
            "text/plain": [
              "count    1599.000000\n",
              "mean        5.636023\n",
              "std         0.807569\n",
              "min         3.000000\n",
              "25%         5.000000\n",
              "50%         6.000000\n",
              "75%         6.000000\n",
              "max         8.000000\n",
              "Name: quality, dtype: float64"
            ]
          },
          "metadata": {},
          "execution_count": 67
        }
      ]
    },
    {
      "cell_type": "code",
      "metadata": {
        "colab": {
          "base_uri": "https://localhost:8080/"
        },
        "id": "p4YOm8P6X3Ft",
        "outputId": "a3f2b4fb-4ef8-4f73-bff0-1ba3d4d1e905"
      },
      "source": [
        "df['alcohol'].describe()"
      ],
      "execution_count": 68,
      "outputs": [
        {
          "output_type": "execute_result",
          "data": {
            "text/plain": [
              "count    1599.000000\n",
              "mean       10.422983\n",
              "std         1.065668\n",
              "min         8.400000\n",
              "25%         9.500000\n",
              "50%        10.200000\n",
              "75%        11.100000\n",
              "max        14.900000\n",
              "Name: alcohol, dtype: float64"
            ]
          },
          "metadata": {},
          "execution_count": 68
        }
      ]
    },
    {
      "cell_type": "code",
      "metadata": {
        "colab": {
          "base_uri": "https://localhost:8080/"
        },
        "id": "xyQw7RTSX3J7",
        "outputId": "381913cc-5b90-4416-9c27-6b2793aae8a7"
      },
      "source": [
        "df['sulphates'].describe()"
      ],
      "execution_count": 69,
      "outputs": [
        {
          "output_type": "execute_result",
          "data": {
            "text/plain": [
              "count    1599.000000\n",
              "mean        0.658149\n",
              "std         0.169507\n",
              "min         0.330000\n",
              "25%         0.550000\n",
              "50%         0.620000\n",
              "75%         0.730000\n",
              "max         2.000000\n",
              "Name: sulphates, dtype: float64"
            ]
          },
          "metadata": {},
          "execution_count": 69
        }
      ]
    },
    {
      "cell_type": "code",
      "metadata": {
        "colab": {
          "base_uri": "https://localhost:8080/"
        },
        "id": "0S4-NO87X3Oa",
        "outputId": "10645812-0692-4885-8f6f-63c22b4e8705"
      },
      "source": [
        "df['pH'].describe()"
      ],
      "execution_count": 70,
      "outputs": [
        {
          "output_type": "execute_result",
          "data": {
            "text/plain": [
              "count    1599.000000\n",
              "mean        3.311113\n",
              "std         0.154386\n",
              "min         2.740000\n",
              "25%         3.210000\n",
              "50%         3.310000\n",
              "75%         3.400000\n",
              "max         4.010000\n",
              "Name: pH, dtype: float64"
            ]
          },
          "metadata": {},
          "execution_count": 70
        }
      ]
    },
    {
      "cell_type": "code",
      "metadata": {
        "colab": {
          "base_uri": "https://localhost:8080/"
        },
        "id": "bj3hq3iBX3Sk",
        "outputId": "2ee1c02a-7111-462e-f23f-ced89cf64394"
      },
      "source": [
        "df['density'].describe()"
      ],
      "execution_count": 71,
      "outputs": [
        {
          "output_type": "execute_result",
          "data": {
            "text/plain": [
              "count    1599.000000\n",
              "mean        0.996747\n",
              "std         0.001887\n",
              "min         0.990070\n",
              "25%         0.995600\n",
              "50%         0.996750\n",
              "75%         0.997835\n",
              "max         1.003690\n",
              "Name: density, dtype: float64"
            ]
          },
          "metadata": {},
          "execution_count": 71
        }
      ]
    },
    {
      "cell_type": "code",
      "metadata": {
        "colab": {
          "base_uri": "https://localhost:8080/"
        },
        "id": "-b9VCJggX3XO",
        "outputId": "18d2efb5-0099-400e-d811-52e068a4c23b"
      },
      "source": [
        "df['total sulfur dioxide'].describe()"
      ],
      "execution_count": 72,
      "outputs": [
        {
          "output_type": "execute_result",
          "data": {
            "text/plain": [
              "count    1599.000000\n",
              "mean       46.467792\n",
              "std        32.895324\n",
              "min         6.000000\n",
              "25%        22.000000\n",
              "50%        38.000000\n",
              "75%        62.000000\n",
              "max       289.000000\n",
              "Name: total sulfur dioxide, dtype: float64"
            ]
          },
          "metadata": {},
          "execution_count": 72
        }
      ]
    },
    {
      "cell_type": "code",
      "metadata": {
        "colab": {
          "base_uri": "https://localhost:8080/"
        },
        "id": "eQFZ-ZHgYz92",
        "outputId": "70d5e683-1bbc-4472-fdb9-aa3c96b8509e"
      },
      "source": [
        "df['free sulfur dioxide'].describe()"
      ],
      "execution_count": 73,
      "outputs": [
        {
          "output_type": "execute_result",
          "data": {
            "text/plain": [
              "count    1599.000000\n",
              "mean       15.874922\n",
              "std        10.460157\n",
              "min         1.000000\n",
              "25%         7.000000\n",
              "50%        14.000000\n",
              "75%        21.000000\n",
              "max        72.000000\n",
              "Name: free sulfur dioxide, dtype: float64"
            ]
          },
          "metadata": {},
          "execution_count": 73
        }
      ]
    },
    {
      "cell_type": "code",
      "metadata": {
        "colab": {
          "base_uri": "https://localhost:8080/"
        },
        "id": "LhY6t4XxZK_C",
        "outputId": "6a0ebbd6-053b-433a-8d72-fa7e45e5a38a"
      },
      "source": [
        "df['chlorides'].describe()"
      ],
      "execution_count": 74,
      "outputs": [
        {
          "output_type": "execute_result",
          "data": {
            "text/plain": [
              "count    1599.000000\n",
              "mean        0.087467\n",
              "std         0.047065\n",
              "min         0.012000\n",
              "25%         0.070000\n",
              "50%         0.079000\n",
              "75%         0.090000\n",
              "max         0.611000\n",
              "Name: chlorides, dtype: float64"
            ]
          },
          "metadata": {},
          "execution_count": 74
        }
      ]
    },
    {
      "cell_type": "code",
      "metadata": {
        "colab": {
          "base_uri": "https://localhost:8080/"
        },
        "id": "2POayFm9ZLD6",
        "outputId": "f154039b-2acf-43a1-8920-4d579c1fc203"
      },
      "source": [
        "df['residual sugar'].describe()"
      ],
      "execution_count": 75,
      "outputs": [
        {
          "output_type": "execute_result",
          "data": {
            "text/plain": [
              "count    1599.000000\n",
              "mean        2.538806\n",
              "std         1.409928\n",
              "min         0.900000\n",
              "25%         1.900000\n",
              "50%         2.200000\n",
              "75%         2.600000\n",
              "max        15.500000\n",
              "Name: residual sugar, dtype: float64"
            ]
          },
          "metadata": {},
          "execution_count": 75
        }
      ]
    },
    {
      "cell_type": "code",
      "metadata": {
        "colab": {
          "base_uri": "https://localhost:8080/"
        },
        "id": "60ek1IcyZXlL",
        "outputId": "0d2cebfc-4bc0-463d-f047-d6c70413b337"
      },
      "source": [
        "df['citric acid'].describe()"
      ],
      "execution_count": 76,
      "outputs": [
        {
          "output_type": "execute_result",
          "data": {
            "text/plain": [
              "count    1599.000000\n",
              "mean        0.270976\n",
              "std         0.194801\n",
              "min         0.000000\n",
              "25%         0.090000\n",
              "50%         0.260000\n",
              "75%         0.420000\n",
              "max         1.000000\n",
              "Name: citric acid, dtype: float64"
            ]
          },
          "metadata": {},
          "execution_count": 76
        }
      ]
    },
    {
      "cell_type": "code",
      "metadata": {
        "colab": {
          "base_uri": "https://localhost:8080/"
        },
        "id": "sQhUhk8_ZX0q",
        "outputId": "b851bcc2-6e12-4887-e83c-c9443a235c70"
      },
      "source": [
        "df['fixed acidity'].describe()"
      ],
      "execution_count": 77,
      "outputs": [
        {
          "output_type": "execute_result",
          "data": {
            "text/plain": [
              "count    1599.000000\n",
              "mean        8.319637\n",
              "std         1.741096\n",
              "min         4.600000\n",
              "25%         7.100000\n",
              "50%         7.900000\n",
              "75%         9.200000\n",
              "max        15.900000\n",
              "Name: fixed acidity, dtype: float64"
            ]
          },
          "metadata": {},
          "execution_count": 77
        }
      ]
    },
    {
      "cell_type": "code",
      "metadata": {
        "colab": {
          "base_uri": "https://localhost:8080/"
        },
        "id": "Sb2SeM4NeMHJ",
        "outputId": "1facc794-e062-48a9-d035-5f60a2bc3079"
      },
      "source": [
        "correlations = df.corr()['quality'].drop('quality')\n",
        "print(correlations)"
      ],
      "execution_count": 94,
      "outputs": [
        {
          "output_type": "stream",
          "text": [
            "fixed acidity           0.124052\n",
            "volatile acidity       -0.390558\n",
            "citric acid             0.226373\n",
            "residual sugar          0.013732\n",
            "chlorides              -0.128907\n",
            "free sulfur dioxide    -0.050656\n",
            "total sulfur dioxide   -0.185100\n",
            "density                -0.174919\n",
            "pH                     -0.057731\n",
            "sulphates               0.251397\n",
            "alcohol                 0.476166\n",
            "Name: quality, dtype: float64\n"
          ],
          "name": "stdout"
        }
      ]
    },
    {
      "cell_type": "code",
      "metadata": {
        "colab": {
          "base_uri": "https://localhost:8080/"
        },
        "id": "eqnpWnpheMKu",
        "outputId": "33b01307-69b6-4bda-976c-ed76b6f034f2"
      },
      "source": [
        "Q1 = df.quantile(0.25)\n",
        "Q3 = df.quantile(0.75)\n",
        "IQR = Q3-Q1\n",
        "IQR"
      ],
      "execution_count": 78,
      "outputs": [
        {
          "output_type": "execute_result",
          "data": {
            "text/plain": [
              "fixed acidity            2.100000\n",
              "volatile acidity         0.250000\n",
              "citric acid              0.330000\n",
              "residual sugar           0.700000\n",
              "chlorides                0.020000\n",
              "free sulfur dioxide     14.000000\n",
              "total sulfur dioxide    40.000000\n",
              "density                  0.002235\n",
              "pH                       0.190000\n",
              "sulphates                0.180000\n",
              "alcohol                  1.600000\n",
              "quality                  1.000000\n",
              "dtype: float64"
            ]
          },
          "metadata": {},
          "execution_count": 78
        }
      ]
    },
    {
      "cell_type": "code",
      "metadata": {
        "colab": {
          "base_uri": "https://localhost:8080/",
          "height": 353
        },
        "id": "jA6h5T0QRwmT",
        "outputId": "102213bb-84d6-4051-e268-767128735317"
      },
      "source": [
        "sns.heatmap(df.corr())\n",
        "plt.show()"
      ],
      "execution_count": 86,
      "outputs": [
        {
          "output_type": "display_data",
          "data": {
            "image/png": "[encoded data removed]",
            "text/plain": [
              "<Figure size 432x288 with 2 Axes>"
            ]
          },
          "metadata": {
            "needs_background": "light"
          }
        }
      ]
    },
    {
      "cell_type": "code",
      "metadata": {
        "id": "u1x4l2RMRw_L"
      },
      "source": [
        "def get_features(correlation_threshold):\n",
        "    abs_corrs = correlations.abs()\n",
        "    high_correlations = abs_corrs[abs_corrs > correlation_threshold].index.values.tolist()\n",
        "    return high_correlations"
      ],
      "execution_count": 95,
      "outputs": []
    },
    {
      "cell_type": "code",
      "metadata": {
        "colab": {
          "base_uri": "https://localhost:8080/"
        },
        "id": "qjTiu3_CRxCY",
        "outputId": "44e5e9b2-ba64-4786-8db8-33e877abef4a"
      },
      "source": [
        "features = get_features(0.05)\n",
        "print(features)\n",
        "x = df[features]\n",
        "y = df['quality']"
      ],
      "execution_count": 96,
      "outputs": [
        {
          "output_type": "stream",
          "text": [
            "['fixed acidity', 'volatile acidity', 'citric acid', 'chlorides', 'free sulfur dioxide', 'total sulfur dioxide', 'density', 'pH', 'sulphates', 'alcohol']\n"
          ],
          "name": "stdout"
        }
      ]
    },
    {
      "cell_type": "code",
      "metadata": {
        "colab": {
          "base_uri": "https://localhost:8080/",
          "height": 436
        },
        "id": "vu9YbOjkoWpQ",
        "outputId": "7980d115-d24f-4c3c-86ed-1173e4fb8768"
      },
      "source": [
        "x"
      ],
      "execution_count": 97,
      "outputs": [
        {
          "output_type": "execute_result",
          "data": {
            "text/html": [
              "<div>\n",
              "<style scoped>\n",
              "    .dataframe tbody tr th:only-of-type {\n",
              "        vertical-align: middle;\n",
              "    }\n",
              "\n",
              "    .dataframe tbody tr th {\n",
              "        vertical-align: top;\n",
              "    }\n",
              "\n",
              "    .dataframe thead th {\n",
              "        text-align: right;\n",
              "    }\n",
              "</style>\n",
              "<table border=\"1\" class=\"dataframe\">\n",
              "  <thead>\n",
              "    <tr style=\"text-align: right;\">\n",
              "      <th></th>\n",
              "      <th>fixed acidity</th>\n",
              "      <th>volatile acidity</th>\n",
              "      <th>citric acid</th>\n",
              "      <th>chlorides</th>\n",
              "      <th>free sulfur dioxide</th>\n",
              "      <th>total sulfur dioxide</th>\n",
              "      <th>density</th>\n",
              "      <th>pH</th>\n",
              "      <th>sulphates</th>\n",
              "      <th>alcohol</th>\n",
              "    </tr>\n",
              "  </thead>\n",
              "  <tbody>\n",
              "    <tr>\n",
              "      <th>0</th>\n",
              "      <td>7.4</td>\n",
              "      <td>0.700</td>\n",
              "      <td>0.00</td>\n",
              "      <td>0.076</td>\n",
              "      <td>11.0</td>\n",
              "      <td>34.0</td>\n",
              "      <td>0.99780</td>\n",
              "      <td>3.51</td>\n",
              "      <td>0.56</td>\n",
              "      <td>9.4</td>\n",
              "    </tr>\n",
              "    <tr>\n",
              "      <th>1</th>\n",
              "      <td>7.8</td>\n",
              "      <td>0.880</td>\n",
              "      <td>0.00</td>\n",
              "      <td>0.098</td>\n",
              "      <td>25.0</td>\n",
              "      <td>67.0</td>\n",
              "      <td>0.99680</td>\n",
              "      <td>3.20</td>\n",
              "      <td>0.68</td>\n",
              "      <td>9.8</td>\n",
              "    </tr>\n",
              "    <tr>\n",
              "      <th>2</th>\n",
              "      <td>7.8</td>\n",
              "      <td>0.760</td>\n",
              "      <td>0.04</td>\n",
              "      <td>0.092</td>\n",
              "      <td>15.0</td>\n",
              "      <td>54.0</td>\n",
              "      <td>0.99700</td>\n",
              "      <td>3.26</td>\n",
              "      <td>0.65</td>\n",
              "      <td>9.8</td>\n",
              "    </tr>\n",
              "    <tr>\n",
              "      <th>3</th>\n",
              "      <td>11.2</td>\n",
              "      <td>0.280</td>\n",
              "      <td>0.56</td>\n",
              "      <td>0.075</td>\n",
              "      <td>17.0</td>\n",
              "      <td>60.0</td>\n",
              "      <td>0.99800</td>\n",
              "      <td>3.16</td>\n",
              "      <td>0.58</td>\n",
              "      <td>9.8</td>\n",
              "    </tr>\n",
              "    <tr>\n",
              "      <th>4</th>\n",
              "      <td>7.4</td>\n",
              "      <td>0.700</td>\n",
              "      <td>0.00</td>\n",
              "      <td>0.076</td>\n",
              "      <td>11.0</td>\n",
              "      <td>34.0</td>\n",
              "      <td>0.99780</td>\n",
              "      <td>3.51</td>\n",
              "      <td>0.56</td>\n",
              "      <td>9.4</td>\n",
              "    </tr>\n",
              "    <tr>\n",
              "      <th>...</th>\n",
              "      <td>...</td>\n",
              "      <td>...</td>\n",
              "      <td>...</td>\n",
              "      <td>...</td>\n",
              "      <td>...</td>\n",
              "      <td>...</td>\n",
              "      <td>...</td>\n",
              "      <td>...</td>\n",
              "      <td>...</td>\n",
              "      <td>...</td>\n",
              "    </tr>\n",
              "    <tr>\n",
              "      <th>1594</th>\n",
              "      <td>6.2</td>\n",
              "      <td>0.600</td>\n",
              "      <td>0.08</td>\n",
              "      <td>0.090</td>\n",
              "      <td>32.0</td>\n",
              "      <td>44.0</td>\n",
              "      <td>0.99490</td>\n",
              "      <td>3.45</td>\n",
              "      <td>0.58</td>\n",
              "      <td>10.5</td>\n",
              "    </tr>\n",
              "    <tr>\n",
              "      <th>1595</th>\n",
              "      <td>5.9</td>\n",
              "      <td>0.550</td>\n",
              "      <td>0.10</td>\n",
              "      <td>0.062</td>\n",
              "      <td>39.0</td>\n",
              "      <td>51.0</td>\n",
              "      <td>0.99512</td>\n",
              "      <td>3.52</td>\n",
              "      <td>0.76</td>\n",
              "      <td>11.2</td>\n",
              "    </tr>\n",
              "    <tr>\n",
              "      <th>1596</th>\n",
              "      <td>6.3</td>\n",
              "      <td>0.510</td>\n",
              "      <td>0.13</td>\n",
              "      <td>0.076</td>\n",
              "      <td>29.0</td>\n",
              "      <td>40.0</td>\n",
              "      <td>0.99574</td>\n",
              "      <td>3.42</td>\n",
              "      <td>0.75</td>\n",
              "      <td>11.0</td>\n",
              "    </tr>\n",
              "    <tr>\n",
              "      <th>1597</th>\n",
              "      <td>5.9</td>\n",
              "      <td>0.645</td>\n",
              "      <td>0.12</td>\n",
              "      <td>0.075</td>\n",
              "      <td>32.0</td>\n",
              "      <td>44.0</td>\n",
              "      <td>0.99547</td>\n",
              "      <td>3.57</td>\n",
              "      <td>0.71</td>\n",
              "      <td>10.2</td>\n",
              "    </tr>\n",
              "    <tr>\n",
              "      <th>1598</th>\n",
              "      <td>6.0</td>\n",
              "      <td>0.310</td>\n",
              "      <td>0.47</td>\n",
              "      <td>0.067</td>\n",
              "      <td>18.0</td>\n",
              "      <td>42.0</td>\n",
              "      <td>0.99549</td>\n",
              "      <td>3.39</td>\n",
              "      <td>0.66</td>\n",
              "      <td>11.0</td>\n",
              "    </tr>\n",
              "  </tbody>\n",
              "</table>\n",
              "<p>1599 rows × 10 columns</p>\n",
              "</div>"
            ],
            "text/plain": [
              "      fixed acidity  volatile acidity  citric acid  ...    pH  sulphates  alcohol\n",
              "0               7.4             0.700         0.00  ...  3.51       0.56      9.4\n",
              "1               7.8             0.880         0.00  ...  3.20       0.68      9.8\n",
              "2               7.8             0.760         0.04  ...  3.26       0.65      9.8\n",
              "3              11.2             0.280         0.56  ...  3.16       0.58      9.8\n",
              "4               7.4             0.700         0.00  ...  3.51       0.56      9.4\n",
              "...             ...               ...          ...  ...   ...        ...      ...\n",
              "1594            6.2             0.600         0.08  ...  3.45       0.58     10.5\n",
              "1595            5.9             0.550         0.10  ...  3.52       0.76     11.2\n",
              "1596            6.3             0.510         0.13  ...  3.42       0.75     11.0\n",
              "1597            5.9             0.645         0.12  ...  3.57       0.71     10.2\n",
              "1598            6.0             0.310         0.47  ...  3.39       0.66     11.0\n",
              "\n",
              "[1599 rows x 10 columns]"
            ]
          },
          "metadata": {},
          "execution_count": 97
        }
      ]
    },
    {
      "cell_type": "code",
      "metadata": {
        "colab": {
          "base_uri": "https://localhost:8080/"
        },
        "id": "ETcl_x8boWtr",
        "outputId": "80e0678c-b883-465b-ed99-6a041d8a351d"
      },
      "source": [
        "y"
      ],
      "execution_count": 98,
      "outputs": [
        {
          "output_type": "execute_result",
          "data": {
            "text/plain": [
              "0       5\n",
              "1       5\n",
              "2       5\n",
              "3       6\n",
              "4       5\n",
              "       ..\n",
              "1594    5\n",
              "1595    6\n",
              "1596    6\n",
              "1597    5\n",
              "1598    6\n",
              "Name: quality, Length: 1599, dtype: int64"
            ]
          },
          "metadata": {},
          "execution_count": 98
        }
      ]
    },
    {
      "cell_type": "code",
      "metadata": {
        "id": "SWT13uTGoWxi"
      },
      "source": [
        "x_train,x_test,y_train,y_test=train_test_split(x,y,random_state=4)"
      ],
      "execution_count": 99,
      "outputs": []
    },
    {
      "cell_type": "code",
      "metadata": {
        "colab": {
          "base_uri": "https://localhost:8080/"
        },
        "id": "o-j4TRiEoW1g",
        "outputId": "26f80a95-f50a-47bb-fead-0cd55797ebb7"
      },
      "source": [
        "y_test.shape"
      ],
      "execution_count": 101,
      "outputs": [
        {
          "output_type": "execute_result",
          "data": {
            "text/plain": [
              "(400,)"
            ]
          },
          "metadata": {},
          "execution_count": 101
        }
      ]
    },
    {
      "cell_type": "code",
      "metadata": {
        "id": "299ps3ICpLS9"
      },
      "source": [
        "from sklearn.linear_model import LinearRegression\n",
        "from sklearn import metrics"
      ],
      "execution_count": 103,
      "outputs": []
    },
    {
      "cell_type": "code",
      "metadata": {
        "colab": {
          "base_uri": "https://localhost:8080/"
        },
        "id": "HW_CaMjBoW32",
        "outputId": "9ba2a592-8b4a-4ffd-f6f2-90b55200f4a1"
      },
      "source": [
        "# fitting linear regression to training data\n",
        "regressor = LinearRegression()\n",
        "regressor.fit(x_train,y_train)"
      ],
      "execution_count": 104,
      "outputs": [
        {
          "output_type": "execute_result",
          "data": {
            "text/plain": [
              "LinearRegression(copy_X=True, fit_intercept=True, n_jobs=None, normalize=False)"
            ]
          },
          "metadata": {},
          "execution_count": 104
        }
      ]
    },
    {
      "cell_type": "code",
      "metadata": {
        "colab": {
          "base_uri": "https://localhost:8080/"
        },
        "id": "7O_kAtsPoW7h",
        "outputId": "1034dd7d-b37f-47fa-86b5-563bc5ec0bd9"
      },
      "source": [
        "regressor.coef_"
      ],
      "execution_count": 105,
      "outputs": [
        {
          "output_type": "execute_result",
          "data": {
            "text/plain": [
              "array([ 4.96819628e-02, -1.12900758e+00, -3.15544151e-01, -1.73799450e+00,\n",
              "        5.92227607e-03, -3.28075876e-03, -1.73591221e+01, -3.31435389e-01,\n",
              "        1.00325261e+00,  2.77220434e-01])"
            ]
          },
          "metadata": {},
          "execution_count": 105
        }
      ]
    },
    {
      "cell_type": "code",
      "metadata": {
        "colab": {
          "base_uri": "https://localhost:8080/"
        },
        "id": "LFNMV9xSoW-b",
        "outputId": "83f18f58-e031-49b5-adec-6d4b98857c03"
      },
      "source": [
        "train_pred = regressor.predict(x_train)\n",
        "train_pred"
      ],
      "execution_count": 106,
      "outputs": [
        {
          "output_type": "execute_result",
          "data": {
            "text/plain": [
              "array([5.66086868, 5.49066329, 5.96298577, ..., 5.22512935, 5.3442602 ,\n",
              "       5.63447898])"
            ]
          },
          "metadata": {},
          "execution_count": 106
        }
      ]
    },
    {
      "cell_type": "code",
      "metadata": {
        "colab": {
          "base_uri": "https://localhost:8080/"
        },
        "id": "tiKGstN8pfEX",
        "outputId": "be1b1dc8-2428-4f39-c048-28fc97c2c513"
      },
      "source": [
        "test_pred = regressor.predict(x_test)\n",
        "test_pred"
      ],
      "execution_count": 107,
      "outputs": [
        {
          "output_type": "execute_result",
          "data": {
            "text/plain": [
              "array([5.67202174, 5.34701289, 6.14086242, 6.15092423, 5.31333095,\n",
              "       5.12179069, 4.82892906, 6.409382  , 5.12834989, 6.36929752,\n",
              "       6.25194291, 6.36933905, 5.45193205, 5.65745037, 6.37855567,\n",
              "       5.57008522, 5.29492457, 5.65908733, 5.21534762, 4.72758343,\n",
              "       5.69403697, 5.45012573, 5.3928977 , 5.43862871, 6.36546209,\n",
              "       5.08460532, 6.3151939 , 5.47239607, 5.47825776, 6.36820645,\n",
              "       5.49435445, 5.26660464, 6.15498303, 5.60402428, 5.45948453,\n",
              "       4.51764462, 6.50891447, 5.66228875, 6.14199137, 5.25400326,\n",
              "       5.85541384, 6.3146954 , 6.10372986, 6.21108975, 5.47239607,\n",
              "       6.46518375, 5.13811193, 5.5617585 , 5.31170848, 4.82666403,\n",
              "       5.72987948, 5.83286834, 5.25439423, 5.16042175, 5.94693304,\n",
              "       5.33101172, 5.81882097, 5.99136695, 5.96298577, 6.03816089,\n",
              "       5.71925144, 5.91912191, 6.07916111, 5.38411575, 5.92172646,\n",
              "       5.38633764, 6.03026606, 6.05524681, 5.38052693, 4.99636075,\n",
              "       6.29214348, 4.8454469 , 6.30411747, 6.48425247, 5.19719974,\n",
              "       5.36804818, 4.85406798, 5.0619862 , 5.16648549, 6.12687299,\n",
              "       6.13464445, 5.49752948, 5.2110115 , 5.39071022, 5.62226013,\n",
              "       5.17344891, 6.26349092, 5.63942298, 6.71951623, 5.04027114,\n",
              "       5.57676925, 5.24777036, 5.74741395, 5.50012666, 6.97475166,\n",
              "       5.58308499, 5.13086404, 6.01860315, 5.87881704, 5.59755523,\n",
              "       5.16357021, 6.16648361, 5.45502962, 4.99073625, 5.3707302 ,\n",
              "       5.34687045, 5.65421619, 5.09051218, 4.31259592, 6.42576479,\n",
              "       4.82550574, 5.59572802, 5.183159  , 5.86938936, 5.92913574,\n",
              "       5.87000391, 6.62070936, 6.41437503, 5.84712114, 6.13834049,\n",
              "       6.00377825, 4.84529741, 5.08195412, 5.30596181, 5.89792954,\n",
              "       5.84224017, 6.24186679, 5.99497177, 6.34067112, 5.04913677,\n",
              "       4.89227471, 5.61150641, 5.50872409, 5.90726752, 6.4749939 ,\n",
              "       5.65282233, 5.75786604, 5.00609297, 6.48640449, 5.40666259,\n",
              "       6.42524751, 5.1870377 , 6.17998573, 5.33888717, 5.67661691,\n",
              "       5.22886112, 7.55634223, 5.76635756, 6.92863611, 4.97259558,\n",
              "       6.00747115, 5.70461633, 5.60097869, 6.69747137, 5.55638553,\n",
              "       5.37950208, 5.21092679, 4.7888529 , 5.1335779 , 5.89949732,\n",
              "       6.27094489, 5.61369455, 6.17303257, 4.95215129, 5.05736389,\n",
              "       6.3779019 , 5.7551102 , 5.33041252, 5.12768661, 5.72634992,\n",
              "       5.3708971 , 5.53971573, 4.99802287, 5.67449017, 5.67551895,\n",
              "       5.55299419, 6.12955003, 6.15162504, 6.03991398, 6.15360076,\n",
              "       4.99947842, 5.4822187 , 6.44312678, 5.28220163, 6.74450502,\n",
              "       5.69589156, 5.51202578, 6.04250172, 6.05885798, 5.96336788,\n",
              "       5.96933504, 5.84292498, 5.05025793, 5.98146035, 6.15162504,\n",
              "       6.47250612, 6.17678683, 5.84995105, 5.65908733, 5.48785153,\n",
              "       5.54656687, 5.4781074 , 5.05618493, 6.12049309, 6.96072321,\n",
              "       5.08496434, 4.71921804, 5.73867335, 6.15892543, 5.2224875 ,\n",
              "       6.2645555 , 6.0615062 , 5.68898322, 5.81559917, 5.10059219,\n",
              "       6.16883821, 5.53076063, 5.9963637 , 6.2078171 , 5.10411845,\n",
              "       5.44658683, 5.78707219, 5.95239377, 5.36505191, 5.32544958,\n",
              "       5.56530904, 5.0910458 , 5.38092719, 5.72671552, 5.14112344,\n",
              "       4.97173465, 6.20642439, 5.91789557, 6.03026606, 5.43713013,\n",
              "       5.13570459, 5.62341052, 5.35560008, 5.31574619, 6.6592283 ,\n",
              "       4.76939023, 5.15130372, 6.14284747, 6.40293357, 4.93468165,\n",
              "       5.22564489, 5.11804942, 6.53882351, 5.46275974, 6.10637048,\n",
              "       5.30297718, 5.75452162, 5.5062883 , 5.33041252, 6.16534567,\n",
              "       5.4430902 , 4.93945605, 5.29025368, 5.4953559 , 5.61858429,\n",
              "       5.27014196, 5.57035343, 5.65924261, 5.17714276, 5.56716197,\n",
              "       6.6683822 , 5.26096198, 5.13898118, 5.22923753, 4.88721339,\n",
              "       5.31491145, 5.97192189, 5.80800264, 5.99074309, 5.23274265,\n",
              "       6.04889358, 5.98824605, 5.57307261, 6.19419962, 5.08028577,\n",
              "       5.32040249, 5.6962188 , 4.91785964, 5.59859251, 5.10543193,\n",
              "       5.03582024, 5.18878754, 6.21757223, 5.12578125, 5.70898152,\n",
              "       5.47431258, 6.41860714, 6.30441466, 5.53905158, 5.31574619,\n",
              "       6.26264357, 5.50628445, 6.00204582, 5.0984349 , 5.33696494,\n",
              "       6.61893608, 5.02797533, 5.24698951, 5.76427934, 6.28166695,\n",
              "       5.92373429, 5.55629967, 5.71717465, 5.45820492, 5.14482383,\n",
              "       6.22813541, 5.40288739, 6.02252227, 5.88987845, 4.89377767,\n",
              "       5.21032112, 6.26153311, 5.698856  , 5.16041699, 5.98425491,\n",
              "       6.08460924, 6.21850093, 5.57035343, 5.83365068, 5.05957193,\n",
              "       5.76249405, 6.45939869, 6.33219304, 5.50743383, 5.78696227,\n",
              "       6.49867503, 5.5173246 , 6.1683405 , 5.2069548 , 4.97749007,\n",
              "       6.47636937, 6.93072467, 5.22705978, 5.59348357, 5.03448214,\n",
              "       6.39496385, 5.08756171, 5.21959043, 5.24102536, 5.53076063,\n",
              "       5.77516024, 5.17349044, 5.56858306, 5.56332323, 5.38273608,\n",
              "       5.50714067, 5.87144989, 4.74933716, 5.05666957, 5.14560991,\n",
              "       5.56716197, 5.14103054, 5.22409746, 5.48970968, 5.61572235,\n",
              "       5.64440881, 5.6510479 , 5.62451325, 5.74739233, 5.47716662,\n",
              "       5.76851448, 5.31095569, 5.68242115, 6.95191922, 5.04965213,\n",
              "       5.94560691, 6.07786186, 5.67939987, 6.36896232, 5.58515274,\n",
              "       5.28049723, 5.35081958, 5.19206721, 6.04250172, 5.26906969,\n",
              "       6.15638805, 5.84978886, 5.71102483, 6.06340995, 5.51384926,\n",
              "       5.26979984, 5.52990413, 4.24331485, 6.18721067, 6.49440221,\n",
              "       4.8562898 , 6.16582624, 6.38707975, 5.04997584, 6.02660063,\n",
              "       5.71910847, 5.29684988, 5.06847422, 6.1926033 , 5.13086404])"
            ]
          },
          "metadata": {},
          "execution_count": 107
        }
      ]
    },
    {
      "cell_type": "code",
      "metadata": {
        "colab": {
          "base_uri": "https://localhost:8080/"
        },
        "id": "0nHgjmJJpfRn",
        "outputId": "8580a8c3-6456-4709-f579-b26472e96a51"
      },
      "source": [
        "train_rmse = metrics.mean_squared_error(train_pred, y_train) ** 0.5\n",
        "train_rmse"
      ],
      "execution_count": 108,
      "outputs": [
        {
          "output_type": "execute_result",
          "data": {
            "text/plain": [
              "0.6500348380145409"
            ]
          },
          "metadata": {},
          "execution_count": 108
        }
      ]
    },
    {
      "cell_type": "code",
      "metadata": {
        "colab": {
          "base_uri": "https://localhost:8080/"
        },
        "id": "dA63yT5upfVW",
        "outputId": "1901cdd1-1ac2-4399-f9b1-d4687358a8c3"
      },
      "source": [
        "test_rmse = metrics.mean_squared_error(test_pred, y_test) ** 0.5\n",
        "test_rmse"
      ],
      "execution_count": 109,
      "outputs": [
        {
          "output_type": "execute_result",
          "data": {
            "text/plain": [
              "0.6375220178009879"
            ]
          },
          "metadata": {},
          "execution_count": 109
        }
      ]
    },
    {
      "cell_type": "code",
      "metadata": {
        "colab": {
          "base_uri": "https://localhost:8080/"
        },
        "id": "B6jQACdGpfYY",
        "outputId": "77f8a0a9-99f9-4718-ab32-2d40b9f7db84"
      },
      "source": [
        "# rounding off the predicted values for test set\n",
        "predicted_data = np.round_(test_pred)\n",
        "predicted_data"
      ],
      "execution_count": 110,
      "outputs": [
        {
          "output_type": "execute_result",
          "data": {
            "text/plain": [
              "array([6., 5., 6., 6., 5., 5., 5., 6., 5., 6., 6., 6., 5., 6., 6., 6., 5.,\n",
              "       6., 5., 5., 6., 5., 5., 5., 6., 5., 6., 5., 5., 6., 5., 5., 6., 6.,\n",
              "       5., 5., 7., 6., 6., 5., 6., 6., 6., 6., 5., 6., 5., 6., 5., 5., 6.,\n",
              "       6., 5., 5., 6., 5., 6., 6., 6., 6., 6., 6., 6., 5., 6., 5., 6., 6.,\n",
              "       5., 5., 6., 5., 6., 6., 5., 5., 5., 5., 5., 6., 6., 5., 5., 5., 6.,\n",
              "       5., 6., 6., 7., 5., 6., 5., 6., 6., 7., 6., 5., 6., 6., 6., 5., 6.,\n",
              "       5., 5., 5., 5., 6., 5., 4., 6., 5., 6., 5., 6., 6., 6., 7., 6., 6.,\n",
              "       6., 6., 5., 5., 5., 6., 6., 6., 6., 6., 5., 5., 6., 6., 6., 6., 6.,\n",
              "       6., 5., 6., 5., 6., 5., 6., 5., 6., 5., 8., 6., 7., 5., 6., 6., 6.,\n",
              "       7., 6., 5., 5., 5., 5., 6., 6., 6., 6., 5., 5., 6., 6., 5., 5., 6.,\n",
              "       5., 6., 5., 6., 6., 6., 6., 6., 6., 6., 5., 5., 6., 5., 7., 6., 6.,\n",
              "       6., 6., 6., 6., 6., 5., 6., 6., 6., 6., 6., 6., 5., 6., 5., 5., 6.,\n",
              "       7., 5., 5., 6., 6., 5., 6., 6., 6., 6., 5., 6., 6., 6., 6., 5., 5.,\n",
              "       6., 6., 5., 5., 6., 5., 5., 6., 5., 5., 6., 6., 6., 5., 5., 6., 5.,\n",
              "       5., 7., 5., 5., 6., 6., 5., 5., 5., 7., 5., 6., 5., 6., 6., 5., 6.,\n",
              "       5., 5., 5., 5., 6., 5., 6., 6., 5., 6., 7., 5., 5., 5., 5., 5., 6.,\n",
              "       6., 6., 5., 6., 6., 6., 6., 5., 5., 6., 5., 6., 5., 5., 5., 6., 5.,\n",
              "       6., 5., 6., 6., 6., 5., 6., 6., 6., 5., 5., 7., 5., 5., 6., 6., 6.,\n",
              "       6., 6., 5., 5., 6., 5., 6., 6., 5., 5., 6., 6., 5., 6., 6., 6., 6.,\n",
              "       6., 5., 6., 6., 6., 6., 6., 6., 6., 6., 5., 5., 6., 7., 5., 6., 5.,\n",
              "       6., 5., 5., 5., 6., 6., 5., 6., 6., 5., 6., 6., 5., 5., 5., 6., 5.,\n",
              "       5., 5., 6., 6., 6., 6., 6., 5., 6., 5., 6., 7., 5., 6., 6., 6., 6.,\n",
              "       6., 5., 5., 5., 6., 5., 6., 6., 6., 6., 6., 5., 6., 4., 6., 6., 5.,\n",
              "       6., 6., 5., 6., 6., 5., 5., 6., 5.])"
            ]
          },
          "metadata": {},
          "execution_count": 110
        }
      ]
    },
    {
      "cell_type": "code",
      "metadata": {
        "colab": {
          "base_uri": "https://localhost:8080/"
        },
        "id": "Xb7fLYGSp-7I",
        "outputId": "61279fd5-89c2-4d8b-93a9-6d9ff6fbfe8a"
      },
      "source": [
        "print('Mean Absolute Error:', metrics.mean_absolute_error(y_test, test_pred))\n",
        "print('Mean Squared Error:', metrics.mean_squared_error(y_test, test_pred))\n",
        "print('Root Mean Squared Error:', np.sqrt(metrics.mean_squared_error(y_test, test_pred)))"
      ],
      "execution_count": 111,
      "outputs": [
        {
          "output_type": "stream",
          "text": [
            "Mean Absolute Error: 0.49317194801692354\n",
            "Mean Squared Error: 0.4064343231810432\n",
            "Root Mean Squared Error: 0.6375220178009879\n"
          ],
          "name": "stdout"
        }
      ]
    },
    {
      "cell_type": "code",
      "metadata": {
        "colab": {
          "base_uri": "https://localhost:8080/"
        },
        "id": "m9tX1ILXp-_Y",
        "outputId": "f6f3c7bc-8184-4d62-fac7-dfdbad8576c8"
      },
      "source": [
        "from sklearn.metrics import r2_score\n",
        "r2_score(y_test,test_pred)"
      ],
      "execution_count": 112,
      "outputs": [
        {
          "output_type": "execute_result",
          "data": {
            "text/plain": [
              "0.344982406058009"
            ]
          },
          "metadata": {},
          "execution_count": 112
        }
      ]
    },
    {
      "cell_type": "code",
      "metadata": {
        "colab": {
          "base_uri": "https://localhost:8080/",
          "height": 359
        },
        "id": "IO5W0BbUp_C_",
        "outputId": "9936b149-4058-43d4-c46e-533d9ed780db"
      },
      "source": [
        "coeffecients = pd.DataFrame(regressor.coef_,features)\n",
        "coeffecients.columns = ['Coeffecient']\n",
        "coeffecients"
      ],
      "execution_count": 113,
      "outputs": [
        {
          "output_type": "execute_result",
          "data": {
            "text/html": [
              "<div>\n",
              "<style scoped>\n",
              "    .dataframe tbody tr th:only-of-type {\n",
              "        vertical-align: middle;\n",
              "    }\n",
              "\n",
              "    .dataframe tbody tr th {\n",
              "        vertical-align: top;\n",
              "    }\n",
              "\n",
              "    .dataframe thead th {\n",
              "        text-align: right;\n",
              "    }\n",
              "</style>\n",
              "<table border=\"1\" class=\"dataframe\">\n",
              "  <thead>\n",
              "    <tr style=\"text-align: right;\">\n",
              "      <th></th>\n",
              "      <th>Coeffecient</th>\n",
              "    </tr>\n",
              "  </thead>\n",
              "  <tbody>\n",
              "    <tr>\n",
              "      <th>fixed acidity</th>\n",
              "      <td>0.049682</td>\n",
              "    </tr>\n",
              "    <tr>\n",
              "      <th>volatile acidity</th>\n",
              "      <td>-1.129008</td>\n",
              "    </tr>\n",
              "    <tr>\n",
              "      <th>citric acid</th>\n",
              "      <td>-0.315544</td>\n",
              "    </tr>\n",
              "    <tr>\n",
              "      <th>chlorides</th>\n",
              "      <td>-1.737995</td>\n",
              "    </tr>\n",
              "    <tr>\n",
              "      <th>free sulfur dioxide</th>\n",
              "      <td>0.005922</td>\n",
              "    </tr>\n",
              "    <tr>\n",
              "      <th>total sulfur dioxide</th>\n",
              "      <td>-0.003281</td>\n",
              "    </tr>\n",
              "    <tr>\n",
              "      <th>density</th>\n",
              "      <td>-17.359122</td>\n",
              "    </tr>\n",
              "    <tr>\n",
              "      <th>pH</th>\n",
              "      <td>-0.331435</td>\n",
              "    </tr>\n",
              "    <tr>\n",
              "      <th>sulphates</th>\n",
              "      <td>1.003253</td>\n",
              "    </tr>\n",
              "    <tr>\n",
              "      <th>alcohol</th>\n",
              "      <td>0.277220</td>\n",
              "    </tr>\n",
              "  </tbody>\n",
              "</table>\n",
              "</div>"
            ],
            "text/plain": [
              "                      Coeffecient\n",
              "fixed acidity            0.049682\n",
              "volatile acidity        -1.129008\n",
              "citric acid             -0.315544\n",
              "chlorides               -1.737995\n",
              "free sulfur dioxide      0.005922\n",
              "total sulfur dioxide    -0.003281\n",
              "density                -17.359122\n",
              "pH                      -0.331435\n",
              "sulphates                1.003253\n",
              "alcohol                  0.277220"
            ]
          },
          "metadata": {},
          "execution_count": 113
        }
      ]
    },
    {
      "cell_type": "code",
      "metadata": {
        "id": "rHiykDHQp_FE"
      },
      "source": [
        ""
      ],
      "execution_count": null,
      "outputs": []
    },
    {
      "cell_type": "markdown",
      "metadata": {
        "id": "obB7JHqYtN0J"
      },
      "source": [
        "2nd Approach\n"
      ]
    },
    {
      "cell_type": "code",
      "metadata": {
        "colab": {
          "base_uri": "https://localhost:8080/"
        },
        "id": "Tg5iqGZpp_IT",
        "outputId": "1c4803d6-7d6b-456c-8082-22b6adad2291"
      },
      "source": [
        "Q1 = df.quantile(0.25)\n",
        "Q3 = df.quantile(0.75)\n",
        "IQR = Q3 - Q1\n",
        "print(IQR)"
      ],
      "execution_count": 115,
      "outputs": [
        {
          "output_type": "stream",
          "text": [
            "fixed acidity            2.100000\n",
            "volatile acidity         0.250000\n",
            "citric acid              0.330000\n",
            "residual sugar           0.700000\n",
            "chlorides                0.020000\n",
            "free sulfur dioxide     14.000000\n",
            "total sulfur dioxide    40.000000\n",
            "density                  0.002235\n",
            "pH                       0.190000\n",
            "sulphates                0.180000\n",
            "alcohol                  1.600000\n",
            "quality                  1.000000\n",
            "dtype: float64\n"
          ],
          "name": "stdout"
        }
      ]
    },
    {
      "cell_type": "code",
      "metadata": {
        "colab": {
          "base_uri": "https://localhost:8080/",
          "height": 782
        },
        "id": "WrLr5r5Rp_Ly",
        "outputId": "b4ab32d8-5a23-4aa3-9890-40dbfb8789c1"
      },
      "source": [
        "#The data point where we have False that means these values are valid whereas True indicates presence of an outlier.\n",
        "print(df < (Q1 - 1.5 * IQR)) |(df > (Q3 + 1.5 * IQR))"
      ],
      "execution_count": 116,
      "outputs": [
        {
          "output_type": "stream",
          "text": [
            "      fixed acidity  volatile acidity  citric acid  ...  sulphates  alcohol  quality\n",
            "0             False             False        False  ...      False    False    False\n",
            "1             False             False        False  ...      False    False    False\n",
            "2             False             False        False  ...      False    False    False\n",
            "3             False             False        False  ...      False    False    False\n",
            "4             False             False        False  ...      False    False    False\n",
            "...             ...               ...          ...  ...        ...      ...      ...\n",
            "1594          False             False        False  ...      False    False    False\n",
            "1595          False             False        False  ...      False    False    False\n",
            "1596          False             False        False  ...      False    False    False\n",
            "1597          False             False        False  ...      False    False    False\n",
            "1598          False             False        False  ...      False    False    False\n",
            "\n",
            "[1599 rows x 12 columns]\n"
          ],
          "name": "stdout"
        },
        {
          "output_type": "error",
          "ename": "TypeError",
          "evalue": "ignored",
          "traceback": [
            "\u001b[0;31m---------------------------------------------------------------------------\u001b[0m",
            "\u001b[0;31mTypeError\u001b[0m                                 Traceback (most recent call last)",
            "\u001b[0;32m/usr/local/lib/python3.7/dist-packages/pandas/core/ops/array_ops.py\u001b[0m in \u001b[0;36mna_logical_op\u001b[0;34m(x, y, op)\u001b[0m\n\u001b[1;32m    265\u001b[0m         \u001b[0;31m#  (xint or xbool) and (yint or bool)\u001b[0m\u001b[0;34m\u001b[0m\u001b[0;34m\u001b[0m\u001b[0;34m\u001b[0m\u001b[0m\n\u001b[0;32m--> 266\u001b[0;31m         \u001b[0mresult\u001b[0m \u001b[0;34m=\u001b[0m \u001b[0mop\u001b[0m\u001b[0;34m(\u001b[0m\u001b[0mx\u001b[0m\u001b[0;34m,\u001b[0m \u001b[0my\u001b[0m\u001b[0;34m)\u001b[0m\u001b[0;34m\u001b[0m\u001b[0;34m\u001b[0m\u001b[0m\n\u001b[0m\u001b[1;32m    267\u001b[0m     \u001b[0;32mexcept\u001b[0m \u001b[0mTypeError\u001b[0m\u001b[0;34m:\u001b[0m\u001b[0;34m\u001b[0m\u001b[0;34m\u001b[0m\u001b[0m\n",
            "\u001b[0;32m/usr/local/lib/python3.7/dist-packages/pandas/core/ops/roperator.py\u001b[0m in \u001b[0;36mror_\u001b[0;34m(left, right)\u001b[0m\n\u001b[1;32m     55\u001b[0m \u001b[0;32mdef\u001b[0m \u001b[0mror_\u001b[0m\u001b[0;34m(\u001b[0m\u001b[0mleft\u001b[0m\u001b[0;34m,\u001b[0m \u001b[0mright\u001b[0m\u001b[0;34m)\u001b[0m\u001b[0;34m:\u001b[0m\u001b[0;34m\u001b[0m\u001b[0;34m\u001b[0m\u001b[0m\n\u001b[0;32m---> 56\u001b[0;31m     \u001b[0;32mreturn\u001b[0m \u001b[0moperator\u001b[0m\u001b[0;34m.\u001b[0m\u001b[0mor_\u001b[0m\u001b[0;34m(\u001b[0m\u001b[0mright\u001b[0m\u001b[0;34m,\u001b[0m \u001b[0mleft\u001b[0m\u001b[0;34m)\u001b[0m\u001b[0;34m\u001b[0m\u001b[0;34m\u001b[0m\u001b[0m\n\u001b[0m\u001b[1;32m     57\u001b[0m \u001b[0;34m\u001b[0m\u001b[0m\n",
            "\u001b[0;31mTypeError\u001b[0m: unsupported operand type(s) for |: 'NoneType' and 'bool'",
            "\nDuring handling of the above exception, another exception occurred:\n",
            "\u001b[0;31mValueError\u001b[0m                                Traceback (most recent call last)",
            "\u001b[0;32m/usr/local/lib/python3.7/dist-packages/pandas/core/ops/array_ops.py\u001b[0m in \u001b[0;36mna_logical_op\u001b[0;34m(x, y, op)\u001b[0m\n\u001b[1;32m    279\u001b[0m             \u001b[0;32mtry\u001b[0m\u001b[0;34m:\u001b[0m\u001b[0;34m\u001b[0m\u001b[0;34m\u001b[0m\u001b[0m\n\u001b[0;32m--> 280\u001b[0;31m                 \u001b[0mresult\u001b[0m \u001b[0;34m=\u001b[0m \u001b[0mlibops\u001b[0m\u001b[0;34m.\u001b[0m\u001b[0mscalar_binop\u001b[0m\u001b[0;34m(\u001b[0m\u001b[0mx\u001b[0m\u001b[0;34m,\u001b[0m \u001b[0my\u001b[0m\u001b[0;34m,\u001b[0m \u001b[0mop\u001b[0m\u001b[0;34m)\u001b[0m\u001b[0;34m\u001b[0m\u001b[0;34m\u001b[0m\u001b[0m\n\u001b[0m\u001b[1;32m    281\u001b[0m             except (\n",
            "\u001b[0;32mpandas/_libs/ops.pyx\u001b[0m in \u001b[0;36mpandas._libs.ops.scalar_binop\u001b[0;34m()\u001b[0m\n",
            "\u001b[0;31mValueError\u001b[0m: Buffer has wrong number of dimensions (expected 1, got 2)",
            "\nThe above exception was the direct cause of the following exception:\n",
            "\u001b[0;31mTypeError\u001b[0m                                 Traceback (most recent call last)",
            "\u001b[0;32m<ipython-input-116-27458c486009>\u001b[0m in \u001b[0;36m<module>\u001b[0;34m()\u001b[0m\n\u001b[1;32m      1\u001b[0m \u001b[0;31m#The data point where we have False that means these values are valid whereas True indicates presence of an outlier.\u001b[0m\u001b[0;34m\u001b[0m\u001b[0;34m\u001b[0m\u001b[0;34m\u001b[0m\u001b[0m\n\u001b[0;32m----> 2\u001b[0;31m \u001b[0mprint\u001b[0m\u001b[0;34m(\u001b[0m\u001b[0mdf\u001b[0m \u001b[0;34m<\u001b[0m \u001b[0;34m(\u001b[0m\u001b[0mQ1\u001b[0m \u001b[0;34m-\u001b[0m \u001b[0;36m1.5\u001b[0m \u001b[0;34m*\u001b[0m \u001b[0mIQR\u001b[0m\u001b[0;34m)\u001b[0m\u001b[0;34m)\u001b[0m \u001b[0;34m|\u001b[0m\u001b[0;34m(\u001b[0m\u001b[0mdf\u001b[0m \u001b[0;34m>\u001b[0m \u001b[0;34m(\u001b[0m\u001b[0mQ3\u001b[0m \u001b[0;34m+\u001b[0m \u001b[0;36m1.5\u001b[0m \u001b[0;34m*\u001b[0m \u001b[0mIQR\u001b[0m\u001b[0;34m)\u001b[0m\u001b[0;34m)\u001b[0m\u001b[0;34m\u001b[0m\u001b[0;34m\u001b[0m\u001b[0m\n\u001b[0m",
            "\u001b[0;32m/usr/local/lib/python3.7/dist-packages/pandas/core/ops/__init__.py\u001b[0m in \u001b[0;36mf\u001b[0;34m(self, other, axis, level, fill_value)\u001b[0m\n\u001b[1;32m    662\u001b[0m                 \u001b[0mself\u001b[0m \u001b[0;34m=\u001b[0m \u001b[0mself\u001b[0m\u001b[0;34m.\u001b[0m\u001b[0mfillna\u001b[0m\u001b[0;34m(\u001b[0m\u001b[0mfill_value\u001b[0m\u001b[0;34m)\u001b[0m\u001b[0;34m\u001b[0m\u001b[0;34m\u001b[0m\u001b[0m\n\u001b[1;32m    663\u001b[0m \u001b[0;34m\u001b[0m\u001b[0m\n\u001b[0;32m--> 664\u001b[0;31m             \u001b[0mnew_data\u001b[0m \u001b[0;34m=\u001b[0m \u001b[0mdispatch_to_series\u001b[0m\u001b[0;34m(\u001b[0m\u001b[0mself\u001b[0m\u001b[0;34m,\u001b[0m \u001b[0mother\u001b[0m\u001b[0;34m,\u001b[0m \u001b[0mop\u001b[0m\u001b[0;34m)\u001b[0m\u001b[0;34m\u001b[0m\u001b[0;34m\u001b[0m\u001b[0m\n\u001b[0m\u001b[1;32m    665\u001b[0m \u001b[0;34m\u001b[0m\u001b[0m\n\u001b[1;32m    666\u001b[0m         \u001b[0;32mreturn\u001b[0m \u001b[0mself\u001b[0m\u001b[0;34m.\u001b[0m\u001b[0m_construct_result\u001b[0m\u001b[0;34m(\u001b[0m\u001b[0mnew_data\u001b[0m\u001b[0;34m)\u001b[0m\u001b[0;34m\u001b[0m\u001b[0;34m\u001b[0m\u001b[0m\n",
            "\u001b[0;32m/usr/local/lib/python3.7/dist-packages/pandas/core/ops/__init__.py\u001b[0m in \u001b[0;36mdispatch_to_series\u001b[0;34m(left, right, func, axis)\u001b[0m\n\u001b[1;32m    263\u001b[0m     \u001b[0;32mif\u001b[0m \u001b[0;32mnot\u001b[0m \u001b[0mis_list_like\u001b[0m\u001b[0;34m(\u001b[0m\u001b[0mright\u001b[0m\u001b[0;34m)\u001b[0m\u001b[0;34m:\u001b[0m\u001b[0;34m\u001b[0m\u001b[0;34m\u001b[0m\u001b[0m\n\u001b[1;32m    264\u001b[0m         \u001b[0;31m# i.e. scalar, faster than checking np.ndim(right) == 0\u001b[0m\u001b[0;34m\u001b[0m\u001b[0;34m\u001b[0m\u001b[0;34m\u001b[0m\u001b[0m\n\u001b[0;32m--> 265\u001b[0;31m         \u001b[0mbm\u001b[0m \u001b[0;34m=\u001b[0m \u001b[0mleft\u001b[0m\u001b[0;34m.\u001b[0m\u001b[0m_mgr\u001b[0m\u001b[0;34m.\u001b[0m\u001b[0mapply\u001b[0m\u001b[0;34m(\u001b[0m\u001b[0marray_op\u001b[0m\u001b[0;34m,\u001b[0m \u001b[0mright\u001b[0m\u001b[0;34m=\u001b[0m\u001b[0mright\u001b[0m\u001b[0;34m)\u001b[0m\u001b[0;34m\u001b[0m\u001b[0;34m\u001b[0m\u001b[0m\n\u001b[0m\u001b[1;32m    266\u001b[0m         \u001b[0;32mreturn\u001b[0m \u001b[0mtype\u001b[0m\u001b[0;34m(\u001b[0m\u001b[0mleft\u001b[0m\u001b[0;34m)\u001b[0m\u001b[0;34m(\u001b[0m\u001b[0mbm\u001b[0m\u001b[0;34m)\u001b[0m\u001b[0;34m\u001b[0m\u001b[0;34m\u001b[0m\u001b[0m\n\u001b[1;32m    267\u001b[0m \u001b[0;34m\u001b[0m\u001b[0m\n",
            "\u001b[0;32m/usr/local/lib/python3.7/dist-packages/pandas/core/internals/managers.py\u001b[0m in \u001b[0;36mapply\u001b[0;34m(self, f, align_keys, **kwargs)\u001b[0m\n\u001b[1;32m    405\u001b[0m \u001b[0;34m\u001b[0m\u001b[0m\n\u001b[1;32m    406\u001b[0m             \u001b[0;32mif\u001b[0m \u001b[0mcallable\u001b[0m\u001b[0;34m(\u001b[0m\u001b[0mf\u001b[0m\u001b[0;34m)\u001b[0m\u001b[0;34m:\u001b[0m\u001b[0;34m\u001b[0m\u001b[0;34m\u001b[0m\u001b[0m\n\u001b[0;32m--> 407\u001b[0;31m                 \u001b[0mapplied\u001b[0m \u001b[0;34m=\u001b[0m \u001b[0mb\u001b[0m\u001b[0;34m.\u001b[0m\u001b[0mapply\u001b[0m\u001b[0;34m(\u001b[0m\u001b[0mf\u001b[0m\u001b[0;34m,\u001b[0m \u001b[0;34m**\u001b[0m\u001b[0mkwargs\u001b[0m\u001b[0;34m)\u001b[0m\u001b[0;34m\u001b[0m\u001b[0;34m\u001b[0m\u001b[0m\n\u001b[0m\u001b[1;32m    408\u001b[0m             \u001b[0;32melse\u001b[0m\u001b[0;34m:\u001b[0m\u001b[0;34m\u001b[0m\u001b[0;34m\u001b[0m\u001b[0m\n\u001b[1;32m    409\u001b[0m                 \u001b[0mapplied\u001b[0m \u001b[0;34m=\u001b[0m \u001b[0mgetattr\u001b[0m\u001b[0;34m(\u001b[0m\u001b[0mb\u001b[0m\u001b[0;34m,\u001b[0m \u001b[0mf\u001b[0m\u001b[0;34m)\u001b[0m\u001b[0;34m(\u001b[0m\u001b[0;34m**\u001b[0m\u001b[0mkwargs\u001b[0m\u001b[0;34m)\u001b[0m\u001b[0;34m\u001b[0m\u001b[0;34m\u001b[0m\u001b[0m\n",
            "\u001b[0;32m/usr/local/lib/python3.7/dist-packages/pandas/core/internals/blocks.py\u001b[0m in \u001b[0;36mapply\u001b[0;34m(self, func, **kwargs)\u001b[0m\n\u001b[1;32m    344\u001b[0m         \"\"\"\n\u001b[1;32m    345\u001b[0m         \u001b[0;32mwith\u001b[0m \u001b[0mnp\u001b[0m\u001b[0;34m.\u001b[0m\u001b[0merrstate\u001b[0m\u001b[0;34m(\u001b[0m\u001b[0mall\u001b[0m\u001b[0;34m=\u001b[0m\u001b[0;34m\"ignore\"\u001b[0m\u001b[0;34m)\u001b[0m\u001b[0;34m:\u001b[0m\u001b[0;34m\u001b[0m\u001b[0;34m\u001b[0m\u001b[0m\n\u001b[0;32m--> 346\u001b[0;31m             \u001b[0mresult\u001b[0m \u001b[0;34m=\u001b[0m \u001b[0mfunc\u001b[0m\u001b[0;34m(\u001b[0m\u001b[0mself\u001b[0m\u001b[0;34m.\u001b[0m\u001b[0mvalues\u001b[0m\u001b[0;34m,\u001b[0m \u001b[0;34m**\u001b[0m\u001b[0mkwargs\u001b[0m\u001b[0;34m)\u001b[0m\u001b[0;34m\u001b[0m\u001b[0;34m\u001b[0m\u001b[0m\n\u001b[0m\u001b[1;32m    347\u001b[0m \u001b[0;34m\u001b[0m\u001b[0m\n\u001b[1;32m    348\u001b[0m         \u001b[0;32mreturn\u001b[0m \u001b[0mself\u001b[0m\u001b[0;34m.\u001b[0m\u001b[0m_split_op_result\u001b[0m\u001b[0;34m(\u001b[0m\u001b[0mresult\u001b[0m\u001b[0;34m)\u001b[0m\u001b[0;34m\u001b[0m\u001b[0;34m\u001b[0m\u001b[0m\n",
            "\u001b[0;32m/usr/local/lib/python3.7/dist-packages/pandas/core/ops/array_ops.py\u001b[0m in \u001b[0;36mlogical_op\u001b[0;34m(left, right, op)\u001b[0m\n\u001b[1;32m    354\u001b[0m         \u001b[0mfiller\u001b[0m \u001b[0;34m=\u001b[0m \u001b[0mfill_int\u001b[0m \u001b[0;32mif\u001b[0m \u001b[0mis_self_int_dtype\u001b[0m \u001b[0;32mand\u001b[0m \u001b[0mis_other_int_dtype\u001b[0m \u001b[0;32melse\u001b[0m \u001b[0mfill_bool\u001b[0m\u001b[0;34m\u001b[0m\u001b[0;34m\u001b[0m\u001b[0m\n\u001b[1;32m    355\u001b[0m \u001b[0;34m\u001b[0m\u001b[0m\n\u001b[0;32m--> 356\u001b[0;31m         \u001b[0mres_values\u001b[0m \u001b[0;34m=\u001b[0m \u001b[0mna_logical_op\u001b[0m\u001b[0;34m(\u001b[0m\u001b[0mlvalues\u001b[0m\u001b[0;34m,\u001b[0m \u001b[0mrvalues\u001b[0m\u001b[0;34m,\u001b[0m \u001b[0mop\u001b[0m\u001b[0;34m)\u001b[0m\u001b[0;34m\u001b[0m\u001b[0;34m\u001b[0m\u001b[0m\n\u001b[0m\u001b[1;32m    357\u001b[0m         \u001b[0mres_values\u001b[0m \u001b[0;34m=\u001b[0m \u001b[0mfiller\u001b[0m\u001b[0;34m(\u001b[0m\u001b[0mres_values\u001b[0m\u001b[0;34m)\u001b[0m  \u001b[0;31m# type: ignore\u001b[0m\u001b[0;34m\u001b[0m\u001b[0;34m\u001b[0m\u001b[0m\n\u001b[1;32m    358\u001b[0m \u001b[0;34m\u001b[0m\u001b[0m\n",
            "\u001b[0;32m/usr/local/lib/python3.7/dist-packages/pandas/core/ops/array_ops.py\u001b[0m in \u001b[0;36mna_logical_op\u001b[0;34m(x, y, op)\u001b[0m\n\u001b[1;32m    290\u001b[0m                     \u001b[0;34mf\"Cannot perform '{op.__name__}' with a dtyped [{x.dtype}] array \"\u001b[0m\u001b[0;34m\u001b[0m\u001b[0;34m\u001b[0m\u001b[0m\n\u001b[1;32m    291\u001b[0m                     \u001b[0;34mf\"and scalar of type [{typ}]\"\u001b[0m\u001b[0;34m\u001b[0m\u001b[0;34m\u001b[0m\u001b[0m\n\u001b[0;32m--> 292\u001b[0;31m                 ) from err\n\u001b[0m\u001b[1;32m    293\u001b[0m \u001b[0;34m\u001b[0m\u001b[0m\n\u001b[1;32m    294\u001b[0m     \u001b[0;32mreturn\u001b[0m \u001b[0mresult\u001b[0m\u001b[0;34m.\u001b[0m\u001b[0mreshape\u001b[0m\u001b[0;34m(\u001b[0m\u001b[0mx\u001b[0m\u001b[0;34m.\u001b[0m\u001b[0mshape\u001b[0m\u001b[0;34m)\u001b[0m\u001b[0;34m\u001b[0m\u001b[0;34m\u001b[0m\u001b[0m\n",
            "\u001b[0;31mTypeError\u001b[0m: Cannot perform 'ror_' with a dtyped [bool] array and scalar of type [NoneType]"
          ]
        }
      ]
    },
    {
      "cell_type": "code",
      "metadata": {
        "colab": {
          "base_uri": "https://localhost:8080/"
        },
        "id": "fTuuzSF2tf8x",
        "outputId": "a85a4379-56db-4d86-aa66-d928d1b9cdb9"
      },
      "source": [
        "DF2 = df[~((df < (Q1 - 1.5 * IQR)) |(df > (Q3 + 1.5 * IQR))).any(axis=1)]\n",
        "\n",
        "DF2.shape"
      ],
      "execution_count": 117,
      "outputs": [
        {
          "output_type": "execute_result",
          "data": {
            "text/plain": [
              "(1179, 12)"
            ]
          },
          "metadata": {},
          "execution_count": 117
        }
      ]
    },
    {
      "cell_type": "code",
      "metadata": {
        "colab": {
          "base_uri": "https://localhost:8080/",
          "height": 453
        },
        "id": "SLk-JZpPtgBV",
        "outputId": "ec50619b-618c-4b16-dd8b-de0c5a473a47"
      },
      "source": [
        "DF2"
      ],
      "execution_count": 118,
      "outputs": [
        {
          "output_type": "execute_result",
          "data": {
            "text/html": [
              "<div>\n",
              "<style scoped>\n",
              "    .dataframe tbody tr th:only-of-type {\n",
              "        vertical-align: middle;\n",
              "    }\n",
              "\n",
              "    .dataframe tbody tr th {\n",
              "        vertical-align: top;\n",
              "    }\n",
              "\n",
              "    .dataframe thead th {\n",
              "        text-align: right;\n",
              "    }\n",
              "</style>\n",
              "<table border=\"1\" class=\"dataframe\">\n",
              "  <thead>\n",
              "    <tr style=\"text-align: right;\">\n",
              "      <th></th>\n",
              "      <th>fixed acidity</th>\n",
              "      <th>volatile acidity</th>\n",
              "      <th>citric acid</th>\n",
              "      <th>residual sugar</th>\n",
              "      <th>chlorides</th>\n",
              "      <th>free sulfur dioxide</th>\n",
              "      <th>total sulfur dioxide</th>\n",
              "      <th>density</th>\n",
              "      <th>pH</th>\n",
              "      <th>sulphates</th>\n",
              "      <th>alcohol</th>\n",
              "      <th>quality</th>\n",
              "    </tr>\n",
              "  </thead>\n",
              "  <tbody>\n",
              "    <tr>\n",
              "      <th>0</th>\n",
              "      <td>7.4</td>\n",
              "      <td>0.700</td>\n",
              "      <td>0.00</td>\n",
              "      <td>1.9</td>\n",
              "      <td>0.076</td>\n",
              "      <td>11.0</td>\n",
              "      <td>34.0</td>\n",
              "      <td>0.99780</td>\n",
              "      <td>3.51</td>\n",
              "      <td>0.56</td>\n",
              "      <td>9.4</td>\n",
              "      <td>5</td>\n",
              "    </tr>\n",
              "    <tr>\n",
              "      <th>1</th>\n",
              "      <td>7.8</td>\n",
              "      <td>0.880</td>\n",
              "      <td>0.00</td>\n",
              "      <td>2.6</td>\n",
              "      <td>0.098</td>\n",
              "      <td>25.0</td>\n",
              "      <td>67.0</td>\n",
              "      <td>0.99680</td>\n",
              "      <td>3.20</td>\n",
              "      <td>0.68</td>\n",
              "      <td>9.8</td>\n",
              "      <td>5</td>\n",
              "    </tr>\n",
              "    <tr>\n",
              "      <th>2</th>\n",
              "      <td>7.8</td>\n",
              "      <td>0.760</td>\n",
              "      <td>0.04</td>\n",
              "      <td>2.3</td>\n",
              "      <td>0.092</td>\n",
              "      <td>15.0</td>\n",
              "      <td>54.0</td>\n",
              "      <td>0.99700</td>\n",
              "      <td>3.26</td>\n",
              "      <td>0.65</td>\n",
              "      <td>9.8</td>\n",
              "      <td>5</td>\n",
              "    </tr>\n",
              "    <tr>\n",
              "      <th>3</th>\n",
              "      <td>11.2</td>\n",
              "      <td>0.280</td>\n",
              "      <td>0.56</td>\n",
              "      <td>1.9</td>\n",
              "      <td>0.075</td>\n",
              "      <td>17.0</td>\n",
              "      <td>60.0</td>\n",
              "      <td>0.99800</td>\n",
              "      <td>3.16</td>\n",
              "      <td>0.58</td>\n",
              "      <td>9.8</td>\n",
              "      <td>6</td>\n",
              "    </tr>\n",
              "    <tr>\n",
              "      <th>4</th>\n",
              "      <td>7.4</td>\n",
              "      <td>0.700</td>\n",
              "      <td>0.00</td>\n",
              "      <td>1.9</td>\n",
              "      <td>0.076</td>\n",
              "      <td>11.0</td>\n",
              "      <td>34.0</td>\n",
              "      <td>0.99780</td>\n",
              "      <td>3.51</td>\n",
              "      <td>0.56</td>\n",
              "      <td>9.4</td>\n",
              "      <td>5</td>\n",
              "    </tr>\n",
              "    <tr>\n",
              "      <th>...</th>\n",
              "      <td>...</td>\n",
              "      <td>...</td>\n",
              "      <td>...</td>\n",
              "      <td>...</td>\n",
              "      <td>...</td>\n",
              "      <td>...</td>\n",
              "      <td>...</td>\n",
              "      <td>...</td>\n",
              "      <td>...</td>\n",
              "      <td>...</td>\n",
              "      <td>...</td>\n",
              "      <td>...</td>\n",
              "    </tr>\n",
              "    <tr>\n",
              "      <th>1594</th>\n",
              "      <td>6.2</td>\n",
              "      <td>0.600</td>\n",
              "      <td>0.08</td>\n",
              "      <td>2.0</td>\n",
              "      <td>0.090</td>\n",
              "      <td>32.0</td>\n",
              "      <td>44.0</td>\n",
              "      <td>0.99490</td>\n",
              "      <td>3.45</td>\n",
              "      <td>0.58</td>\n",
              "      <td>10.5</td>\n",
              "      <td>5</td>\n",
              "    </tr>\n",
              "    <tr>\n",
              "      <th>1595</th>\n",
              "      <td>5.9</td>\n",
              "      <td>0.550</td>\n",
              "      <td>0.10</td>\n",
              "      <td>2.2</td>\n",
              "      <td>0.062</td>\n",
              "      <td>39.0</td>\n",
              "      <td>51.0</td>\n",
              "      <td>0.99512</td>\n",
              "      <td>3.52</td>\n",
              "      <td>0.76</td>\n",
              "      <td>11.2</td>\n",
              "      <td>6</td>\n",
              "    </tr>\n",
              "    <tr>\n",
              "      <th>1596</th>\n",
              "      <td>6.3</td>\n",
              "      <td>0.510</td>\n",
              "      <td>0.13</td>\n",
              "      <td>2.3</td>\n",
              "      <td>0.076</td>\n",
              "      <td>29.0</td>\n",
              "      <td>40.0</td>\n",
              "      <td>0.99574</td>\n",
              "      <td>3.42</td>\n",
              "      <td>0.75</td>\n",
              "      <td>11.0</td>\n",
              "      <td>6</td>\n",
              "    </tr>\n",
              "    <tr>\n",
              "      <th>1597</th>\n",
              "      <td>5.9</td>\n",
              "      <td>0.645</td>\n",
              "      <td>0.12</td>\n",
              "      <td>2.0</td>\n",
              "      <td>0.075</td>\n",
              "      <td>32.0</td>\n",
              "      <td>44.0</td>\n",
              "      <td>0.99547</td>\n",
              "      <td>3.57</td>\n",
              "      <td>0.71</td>\n",
              "      <td>10.2</td>\n",
              "      <td>5</td>\n",
              "    </tr>\n",
              "    <tr>\n",
              "      <th>1598</th>\n",
              "      <td>6.0</td>\n",
              "      <td>0.310</td>\n",
              "      <td>0.47</td>\n",
              "      <td>3.6</td>\n",
              "      <td>0.067</td>\n",
              "      <td>18.0</td>\n",
              "      <td>42.0</td>\n",
              "      <td>0.99549</td>\n",
              "      <td>3.39</td>\n",
              "      <td>0.66</td>\n",
              "      <td>11.0</td>\n",
              "      <td>6</td>\n",
              "    </tr>\n",
              "  </tbody>\n",
              "</table>\n",
              "<p>1179 rows × 12 columns</p>\n",
              "</div>"
            ],
            "text/plain": [
              "      fixed acidity  volatile acidity  citric acid  ...  sulphates  alcohol  quality\n",
              "0               7.4             0.700         0.00  ...       0.56      9.4        5\n",
              "1               7.8             0.880         0.00  ...       0.68      9.8        5\n",
              "2               7.8             0.760         0.04  ...       0.65      9.8        5\n",
              "3              11.2             0.280         0.56  ...       0.58      9.8        6\n",
              "4               7.4             0.700         0.00  ...       0.56      9.4        5\n",
              "...             ...               ...          ...  ...        ...      ...      ...\n",
              "1594            6.2             0.600         0.08  ...       0.58     10.5        5\n",
              "1595            5.9             0.550         0.10  ...       0.76     11.2        6\n",
              "1596            6.3             0.510         0.13  ...       0.75     11.0        6\n",
              "1597            5.9             0.645         0.12  ...       0.71     10.2        5\n",
              "1598            6.0             0.310         0.47  ...       0.66     11.0        6\n",
              "\n",
              "[1179 rows x 12 columns]"
            ]
          },
          "metadata": {},
          "execution_count": 118
        }
      ]
    },
    {
      "cell_type": "code",
      "metadata": {
        "colab": {
          "base_uri": "https://localhost:8080/"
        },
        "id": "1jaPhe2ItgD0",
        "outputId": "de1500a6-2671-4210-c0b0-ffeaaae8d616"
      },
      "source": [
        "correlations = DF2.corr()['quality'].drop('quality')\n",
        "print(correlations)"
      ],
      "execution_count": 119,
      "outputs": [
        {
          "output_type": "stream",
          "text": [
            "fixed acidity           0.113422\n",
            "volatile acidity       -0.346962\n",
            "citric acid             0.212133\n",
            "residual sugar          0.007934\n",
            "chlorides              -0.190869\n",
            "free sulfur dioxide    -0.003609\n",
            "total sulfur dioxide   -0.203374\n",
            "density                -0.215375\n",
            "pH                     -0.060288\n",
            "sulphates               0.413533\n",
            "alcohol                 0.492551\n",
            "Name: quality, dtype: float64\n"
          ],
          "name": "stdout"
        }
      ]
    },
    {
      "cell_type": "code",
      "metadata": {
        "colab": {
          "base_uri": "https://localhost:8080/"
        },
        "id": "3xHLPyGmtgIh",
        "outputId": "2de95f75-7b81-4d14-c462-14e27d9e31c7"
      },
      "source": [
        "correlations.sort_values(ascending=False)"
      ],
      "execution_count": 120,
      "outputs": [
        {
          "output_type": "execute_result",
          "data": {
            "text/plain": [
              "alcohol                 0.492551\n",
              "sulphates               0.413533\n",
              "citric acid             0.212133\n",
              "fixed acidity           0.113422\n",
              "residual sugar          0.007934\n",
              "free sulfur dioxide    -0.003609\n",
              "pH                     -0.060288\n",
              "chlorides              -0.190869\n",
              "total sulfur dioxide   -0.203374\n",
              "density                -0.215375\n",
              "volatile acidity       -0.346962\n",
              "Name: quality, dtype: float64"
            ]
          },
          "metadata": {},
          "execution_count": 120
        }
      ]
    },
    {
      "cell_type": "code",
      "metadata": {
        "id": "OP3EZKGjtgy9"
      },
      "source": [
        "def get_features(correlation_threshold):\n",
        "    abs_corrs = correlations.abs()\n",
        "    high_correlations = abs_corrs[abs_corrs > correlation_threshold].index.values.tolist()\n",
        "    return high_correlations"
      ],
      "execution_count": 121,
      "outputs": []
    },
    {
      "cell_type": "code",
      "metadata": {
        "colab": {
          "base_uri": "https://localhost:8080/"
        },
        "id": "Xe2wzUh3tg36",
        "outputId": "3230baee-c349-420c-892b-7791958d60a9"
      },
      "source": [
        "# taking features with correlation more than 0.05 as input x and quality as target variable y\n",
        "features = get_features(0.05)\n",
        "print(features)\n",
        "X = DF2[features]\n",
        "Y = DF2['quality']"
      ],
      "execution_count": 126,
      "outputs": [
        {
          "output_type": "stream",
          "text": [
            "['fixed acidity', 'volatile acidity', 'citric acid', 'chlorides', 'total sulfur dioxide', 'density', 'pH', 'sulphates', 'alcohol']\n"
          ],
          "name": "stdout"
        }
      ]
    },
    {
      "cell_type": "code",
      "metadata": {
        "colab": {
          "base_uri": "https://localhost:8080/",
          "height": 419
        },
        "id": "_m_EpASdtg7f",
        "outputId": "b6ba45bb-85e2-46a0-f949-b0d3e93a3a2b"
      },
      "source": [
        "X"
      ],
      "execution_count": 127,
      "outputs": [
        {
          "output_type": "execute_result",
          "data": {
            "text/html": [
              "<div>\n",
              "<style scoped>\n",
              "    .dataframe tbody tr th:only-of-type {\n",
              "        vertical-align: middle;\n",
              "    }\n",
              "\n",
              "    .dataframe tbody tr th {\n",
              "        vertical-align: top;\n",
              "    }\n",
              "\n",
              "    .dataframe thead th {\n",
              "        text-align: right;\n",
              "    }\n",
              "</style>\n",
              "<table border=\"1\" class=\"dataframe\">\n",
              "  <thead>\n",
              "    <tr style=\"text-align: right;\">\n",
              "      <th></th>\n",
              "      <th>fixed acidity</th>\n",
              "      <th>volatile acidity</th>\n",
              "      <th>citric acid</th>\n",
              "      <th>chlorides</th>\n",
              "      <th>total sulfur dioxide</th>\n",
              "      <th>density</th>\n",
              "      <th>pH</th>\n",
              "      <th>sulphates</th>\n",
              "      <th>alcohol</th>\n",
              "    </tr>\n",
              "  </thead>\n",
              "  <tbody>\n",
              "    <tr>\n",
              "      <th>0</th>\n",
              "      <td>7.4</td>\n",
              "      <td>0.700</td>\n",
              "      <td>0.00</td>\n",
              "      <td>0.076</td>\n",
              "      <td>34.0</td>\n",
              "      <td>0.99780</td>\n",
              "      <td>3.51</td>\n",
              "      <td>0.56</td>\n",
              "      <td>9.4</td>\n",
              "    </tr>\n",
              "    <tr>\n",
              "      <th>1</th>\n",
              "      <td>7.8</td>\n",
              "      <td>0.880</td>\n",
              "      <td>0.00</td>\n",
              "      <td>0.098</td>\n",
              "      <td>67.0</td>\n",
              "      <td>0.99680</td>\n",
              "      <td>3.20</td>\n",
              "      <td>0.68</td>\n",
              "      <td>9.8</td>\n",
              "    </tr>\n",
              "    <tr>\n",
              "      <th>2</th>\n",
              "      <td>7.8</td>\n",
              "      <td>0.760</td>\n",
              "      <td>0.04</td>\n",
              "      <td>0.092</td>\n",
              "      <td>54.0</td>\n",
              "      <td>0.99700</td>\n",
              "      <td>3.26</td>\n",
              "      <td>0.65</td>\n",
              "      <td>9.8</td>\n",
              "    </tr>\n",
              "    <tr>\n",
              "      <th>3</th>\n",
              "      <td>11.2</td>\n",
              "      <td>0.280</td>\n",
              "      <td>0.56</td>\n",
              "      <td>0.075</td>\n",
              "      <td>60.0</td>\n",
              "      <td>0.99800</td>\n",
              "      <td>3.16</td>\n",
              "      <td>0.58</td>\n",
              "      <td>9.8</td>\n",
              "    </tr>\n",
              "    <tr>\n",
              "      <th>4</th>\n",
              "      <td>7.4</td>\n",
              "      <td>0.700</td>\n",
              "      <td>0.00</td>\n",
              "      <td>0.076</td>\n",
              "      <td>34.0</td>\n",
              "      <td>0.99780</td>\n",
              "      <td>3.51</td>\n",
              "      <td>0.56</td>\n",
              "      <td>9.4</td>\n",
              "    </tr>\n",
              "    <tr>\n",
              "      <th>...</th>\n",
              "      <td>...</td>\n",
              "      <td>...</td>\n",
              "      <td>...</td>\n",
              "      <td>...</td>\n",
              "      <td>...</td>\n",
              "      <td>...</td>\n",
              "      <td>...</td>\n",
              "      <td>...</td>\n",
              "      <td>...</td>\n",
              "    </tr>\n",
              "    <tr>\n",
              "      <th>1594</th>\n",
              "      <td>6.2</td>\n",
              "      <td>0.600</td>\n",
              "      <td>0.08</td>\n",
              "      <td>0.090</td>\n",
              "      <td>44.0</td>\n",
              "      <td>0.99490</td>\n",
              "      <td>3.45</td>\n",
              "      <td>0.58</td>\n",
              "      <td>10.5</td>\n",
              "    </tr>\n",
              "    <tr>\n",
              "      <th>1595</th>\n",
              "      <td>5.9</td>\n",
              "      <td>0.550</td>\n",
              "      <td>0.10</td>\n",
              "      <td>0.062</td>\n",
              "      <td>51.0</td>\n",
              "      <td>0.99512</td>\n",
              "      <td>3.52</td>\n",
              "      <td>0.76</td>\n",
              "      <td>11.2</td>\n",
              "    </tr>\n",
              "    <tr>\n",
              "      <th>1596</th>\n",
              "      <td>6.3</td>\n",
              "      <td>0.510</td>\n",
              "      <td>0.13</td>\n",
              "      <td>0.076</td>\n",
              "      <td>40.0</td>\n",
              "      <td>0.99574</td>\n",
              "      <td>3.42</td>\n",
              "      <td>0.75</td>\n",
              "      <td>11.0</td>\n",
              "    </tr>\n",
              "    <tr>\n",
              "      <th>1597</th>\n",
              "      <td>5.9</td>\n",
              "      <td>0.645</td>\n",
              "      <td>0.12</td>\n",
              "      <td>0.075</td>\n",
              "      <td>44.0</td>\n",
              "      <td>0.99547</td>\n",
              "      <td>3.57</td>\n",
              "      <td>0.71</td>\n",
              "      <td>10.2</td>\n",
              "    </tr>\n",
              "    <tr>\n",
              "      <th>1598</th>\n",
              "      <td>6.0</td>\n",
              "      <td>0.310</td>\n",
              "      <td>0.47</td>\n",
              "      <td>0.067</td>\n",
              "      <td>42.0</td>\n",
              "      <td>0.99549</td>\n",
              "      <td>3.39</td>\n",
              "      <td>0.66</td>\n",
              "      <td>11.0</td>\n",
              "    </tr>\n",
              "  </tbody>\n",
              "</table>\n",
              "<p>1179 rows × 9 columns</p>\n",
              "</div>"
            ],
            "text/plain": [
              "      fixed acidity  volatile acidity  citric acid  ...    pH  sulphates  alcohol\n",
              "0               7.4             0.700         0.00  ...  3.51       0.56      9.4\n",
              "1               7.8             0.880         0.00  ...  3.20       0.68      9.8\n",
              "2               7.8             0.760         0.04  ...  3.26       0.65      9.8\n",
              "3              11.2             0.280         0.56  ...  3.16       0.58      9.8\n",
              "4               7.4             0.700         0.00  ...  3.51       0.56      9.4\n",
              "...             ...               ...          ...  ...   ...        ...      ...\n",
              "1594            6.2             0.600         0.08  ...  3.45       0.58     10.5\n",
              "1595            5.9             0.550         0.10  ...  3.52       0.76     11.2\n",
              "1596            6.3             0.510         0.13  ...  3.42       0.75     11.0\n",
              "1597            5.9             0.645         0.12  ...  3.57       0.71     10.2\n",
              "1598            6.0             0.310         0.47  ...  3.39       0.66     11.0\n",
              "\n",
              "[1179 rows x 9 columns]"
            ]
          },
          "metadata": {},
          "execution_count": 127
        }
      ]
    },
    {
      "cell_type": "code",
      "metadata": {
        "colab": {
          "base_uri": "https://localhost:8080/"
        },
        "id": "1o5Bg4-5tg99",
        "outputId": "5ede30da-9261-4a41-8801-dc45cac247b9"
      },
      "source": [
        "Y"
      ],
      "execution_count": 128,
      "outputs": [
        {
          "output_type": "execute_result",
          "data": {
            "text/plain": [
              "0       5\n",
              "1       5\n",
              "2       5\n",
              "3       6\n",
              "4       5\n",
              "       ..\n",
              "1594    5\n",
              "1595    6\n",
              "1596    6\n",
              "1597    5\n",
              "1598    6\n",
              "Name: quality, Length: 1179, dtype: int64"
            ]
          },
          "metadata": {},
          "execution_count": 128
        }
      ]
    },
    {
      "cell_type": "code",
      "metadata": {
        "id": "QeyY9_fEvNk9"
      },
      "source": [
        "x_train,x_test,y_train,y_test=train_test_split(X,Y,test_size=0.20,random_state=3)"
      ],
      "execution_count": 130,
      "outputs": []
    },
    {
      "cell_type": "code",
      "metadata": {
        "colab": {
          "base_uri": "https://localhost:8080/"
        },
        "id": "Vczi3pBpvNq0",
        "outputId": "331f282f-2992-458f-f34d-0c6c3ae10151"
      },
      "source": [
        "y_test.shape"
      ],
      "execution_count": 131,
      "outputs": [
        {
          "output_type": "execute_result",
          "data": {
            "text/plain": [
              "(236,)"
            ]
          },
          "metadata": {},
          "execution_count": 131
        }
      ]
    },
    {
      "cell_type": "code",
      "metadata": {
        "colab": {
          "base_uri": "https://localhost:8080/"
        },
        "id": "sIGP7i6XvNtJ",
        "outputId": "8404838a-cfad-40ec-f903-74c4996aba63"
      },
      "source": [
        "regressor = LinearRegression()\n",
        "regressor.fit(x_train,y_train)"
      ],
      "execution_count": 132,
      "outputs": [
        {
          "output_type": "execute_result",
          "data": {
            "text/plain": [
              "LinearRegression(copy_X=True, fit_intercept=True, n_jobs=None, normalize=False)"
            ]
          },
          "metadata": {},
          "execution_count": 132
        }
      ]
    },
    {
      "cell_type": "code",
      "metadata": {
        "colab": {
          "base_uri": "https://localhost:8080/"
        },
        "id": "08qYRLduvNx6",
        "outputId": "30d26049-76ea-4682-a08b-9fa379ea22d2"
      },
      "source": [
        "regressor.intercept_"
      ],
      "execution_count": 133,
      "outputs": [
        {
          "output_type": "execute_result",
          "data": {
            "text/plain": [
              "23.617256816281603"
            ]
          },
          "metadata": {},
          "execution_count": 133
        }
      ]
    },
    {
      "cell_type": "code",
      "metadata": {
        "colab": {
          "base_uri": "https://localhost:8080/"
        },
        "id": "a_q8boJUvN0M",
        "outputId": "5e4e076d-4bfa-4e5b-d47f-c94b8c33368c"
      },
      "source": [
        "regressor.coef_"
      ],
      "execution_count": 134,
      "outputs": [
        {
          "output_type": "execute_result",
          "data": {
            "text/plain": [
              "array([ 2.87980871e-02, -7.03313219e-01, -3.04787013e-01, -1.57079022e+00,\n",
              "       -1.38100316e-03, -1.97211895e+01, -5.20008678e-01,  1.79800666e+00,\n",
              "        2.54783497e-01])"
            ]
          },
          "metadata": {},
          "execution_count": 134
        }
      ]
    },
    {
      "cell_type": "code",
      "metadata": {
        "colab": {
          "base_uri": "https://localhost:8080/"
        },
        "id": "DUKekGrhvN5m",
        "outputId": "fe909181-6312-4a72-d6ce-a11a053679e2"
      },
      "source": [
        "train_pred = regressor.predict(x_train)\n",
        "train_pred"
      ],
      "execution_count": 135,
      "outputs": [
        {
          "output_type": "execute_result",
          "data": {
            "text/plain": [
              "array([5.17910309, 5.4599716 , 5.11281273, 5.15774731, 5.20740889,\n",
              "       5.677943  , 5.58640184, 4.99242968, 6.43445319, 6.62148532,\n",
              "       5.38928489, 6.18781146, 5.37795395, 5.34956691, 6.04608607,\n",
              "       5.31906301, 5.45072797, 5.56433255, 6.30525919, 5.37703843,\n",
              "       6.04605835, 5.37582309, 5.80162236, 5.43420035, 5.35792015,\n",
              "       5.25233889, 5.06604764, 5.66851056, 5.88313484, 5.37751012,\n",
              "       5.39640325, 6.26121088, 6.09545421, 6.63308694, 5.07767879,\n",
              "       5.39812927, 5.81909644, 5.69116423, 6.06121287, 4.95642069,\n",
              "       5.05815352, 4.97166853, 5.54561503, 5.60313206, 5.50710431,\n",
              "       6.30258865, 4.97735638, 5.8513253 , 5.39591467, 5.19158935,\n",
              "       6.53176674, 4.86619243, 5.26210746, 5.1001118 , 5.92816171,\n",
              "       5.00794278, 5.55840268, 6.13176344, 5.4924292 , 5.01834022,\n",
              "       5.17005671, 5.51874502, 5.57682762, 6.19023296, 5.5129799 ,\n",
              "       5.38351034, 6.48543498, 5.66084594, 5.05815352, 5.07260428,\n",
              "       5.57382826, 6.09242137, 5.83366939, 5.11161921, 5.3891557 ,\n",
              "       5.35093095, 5.53923507, 5.1764937 , 6.19206945, 6.67245955,\n",
              "       6.0347417 , 5.7218423 , 6.43552902, 6.16443752, 5.32107044,\n",
              "       5.80162236, 5.37210422, 5.29833968, 5.54611618, 5.13476636,\n",
              "       5.46370582, 6.37190231, 5.79023824, 4.83783649, 4.94045114,\n",
              "       6.13956827, 5.63976147, 5.74872697, 5.37391607, 5.18293609,\n",
              "       5.74787325, 5.03158101, 6.01866715, 5.69991339, 6.00586794,\n",
              "       6.27624306, 6.16905336, 5.18963583, 5.09020882, 5.34735332,\n",
              "       6.22397791, 5.41305222, 6.10090071, 5.302097  , 5.07052446,\n",
              "       5.55500593, 6.10697072, 6.3149062 , 6.11039902, 5.09813373,\n",
              "       5.2233285 , 5.13242359, 5.99432144, 5.6519531 , 5.46564347,\n",
              "       5.7423443 , 5.95466282, 5.42987328, 5.54031348, 5.23072421,\n",
              "       5.36653127, 5.74781277, 5.35381889, 5.09492816, 5.68103979,\n",
              "       6.14004718, 4.96444401, 6.35437909, 5.32270284, 5.58470013,\n",
              "       5.53959856, 6.51157051, 5.944096  , 5.34167928, 5.26674482,\n",
              "       5.61688645, 5.18488804, 5.22535195, 5.12461057, 5.06395128,\n",
              "       5.693428  , 5.94050902, 5.17935023, 5.73219506, 5.04626849,\n",
              "       5.17653811, 6.30796485, 5.09194176, 4.89951267, 5.30829549,\n",
              "       6.57576963, 5.96134054, 5.17790265, 5.53401377, 5.1407392 ,\n",
              "       6.1185554 , 5.47736647, 5.94380838, 6.23884249, 5.93702294,\n",
              "       5.77870639, 6.05962791, 5.82381851, 5.79694072, 6.04115935,\n",
              "       4.86591713, 6.10705166, 5.17322594, 5.8592391 , 5.221996  ,\n",
              "       5.18978772, 5.17191086, 5.05675184, 5.24716273, 5.64366637,\n",
              "       5.66059033, 5.54008268, 5.9454161 , 5.29579079, 5.07767879,\n",
              "       4.99722629, 5.46309626, 5.46248278, 6.31757295, 5.73292857,\n",
              "       5.25529218, 5.68258548, 5.60689204, 5.93173173, 5.85941126,\n",
              "       5.90573392, 5.4803091 , 6.49753818, 4.93360548, 5.73793956,\n",
              "       5.02696415, 5.79873102, 5.05233104, 5.13177366, 5.14230688,\n",
              "       5.56254302, 5.4608638 , 5.57717636, 5.27347288, 5.53930213,\n",
              "       5.3395824 , 5.50614791, 6.63123256, 5.09925379, 5.24647321,\n",
              "       5.9924953 , 5.32972653, 5.7890373 , 6.57397252, 5.11855337,\n",
              "       4.89071762, 6.59996744, 5.81490759, 5.4924292 , 5.91324733,\n",
              "       5.13967125, 5.18459792, 5.06275635, 5.08913016, 5.94003623,\n",
              "       5.27157301, 5.08094516, 5.68681949, 6.39264854, 6.0763264 ,\n",
              "       5.58787668, 5.1878728 , 5.51067277, 5.2742686 , 5.82666504,\n",
              "       6.31447802, 5.06468078, 5.26264658, 5.73334953, 5.22493719,\n",
              "       5.20889835, 5.61900505, 5.10136373, 5.81955485, 6.33002675,\n",
              "       5.74247761, 6.22500874, 6.43463555, 5.41403738, 4.91782364,\n",
              "       6.39800194, 6.43119458, 5.7608447 , 6.42747155, 5.58288163,\n",
              "       5.37210422, 5.28669161, 5.38995871, 5.88134673, 5.81955485,\n",
              "       5.26991756, 4.98756941, 5.64366637, 5.63651485, 4.96281294,\n",
              "       5.23376405, 5.49684976, 5.35093095, 5.2009502 , 5.35879445,\n",
              "       6.19116615, 5.48235455, 5.13476636, 6.00306425, 6.23884249,\n",
              "       6.6471017 , 5.44173311, 5.36182983, 6.15234737, 6.1337463 ,\n",
              "       5.68483467, 5.35093095, 5.25084944, 6.01479514, 6.01089029,\n",
              "       5.74600388, 6.31991259, 5.11223662, 5.56438232, 6.10998926,\n",
              "       6.10612979, 5.11679116, 5.43768423, 5.28475936, 5.36411164,\n",
              "       6.13845705, 5.63087694, 6.6143411 , 6.10194579, 6.11236913,\n",
              "       6.61319794, 5.06254785, 6.25968496, 5.22855879, 5.67410569,\n",
              "       5.32412525, 5.64945338, 5.25257543, 5.22241015, 5.08537028,\n",
              "       6.57139839, 5.95687745, 4.74962382, 5.41798645, 5.1644197 ,\n",
              "       5.51848217, 6.62555552, 6.13385111, 5.27215949, 5.51155274,\n",
              "       5.50606605, 5.21858761, 6.51128478, 6.09545421, 5.51537717,\n",
              "       6.33962302, 5.8722814 , 5.59256794, 5.87147315, 5.62355978,\n",
              "       5.69235542, 5.51067277, 5.25049069, 5.01283467, 5.83410776,\n",
              "       5.82401268, 7.00111739, 5.82742132, 5.78588256, 5.74577358,\n",
              "       5.38563609, 5.47447186, 5.15969173, 5.46201765, 5.38269218,\n",
              "       4.97188287, 5.97022936, 6.37714694, 5.11638609, 5.66024886,\n",
              "       5.18781876, 5.29852491, 5.92983975, 6.37317898, 5.23799899,\n",
              "       6.33158967, 5.32972653, 6.25730424, 5.1583716 , 5.50350929,\n",
              "       6.15105046, 5.34313127, 5.59855489, 5.49799145, 6.25658476,\n",
              "       6.22920869, 5.37091649, 5.05675184, 4.94983819, 5.74338308,\n",
              "       6.32386002, 5.61579006, 5.72512528, 5.92080107, 5.19264588,\n",
              "       6.33881592, 5.46191641, 5.46763979, 6.3143323 , 5.23249598,\n",
              "       6.30368597, 6.22609133, 5.19392783, 6.07820971, 6.49149915,\n",
              "       5.70372456, 5.86096118, 5.39812927, 5.22573677, 6.16345267,\n",
              "       5.1351084 , 5.61816614, 5.53547805, 5.33125377, 5.26652639,\n",
              "       5.36268512, 6.19699774, 5.16801334, 5.43487454, 5.32833487,\n",
              "       5.29833968, 5.29852491, 6.10073383, 5.50811962, 5.22197719,\n",
              "       5.77277116, 5.88592385, 5.37256321, 5.14970857, 6.19116615,\n",
              "       6.30569229, 5.6530577 , 5.51814781, 5.06275635, 5.50992307,\n",
              "       6.19417441, 6.29312562, 6.06822246, 6.19434384, 5.56940795,\n",
              "       5.71710953, 5.06184073, 5.6630216 , 5.14633047, 5.06057018,\n",
              "       5.04966294, 5.84209128, 5.63617999, 5.60197898, 5.23698544,\n",
              "       5.22886418, 6.1339292 , 5.82553241, 5.17380241, 5.48400658,\n",
              "       5.64366637, 5.10304136, 5.14156513, 4.98704478, 5.51815032,\n",
              "       6.37176646, 5.68379728, 5.19840648, 5.36956095, 6.00685439,\n",
              "       5.20523891, 5.26569289, 5.36106373, 5.60938949, 5.28759211,\n",
              "       5.42302892, 6.20493428, 5.77950666, 5.34538387, 5.36268512,\n",
              "       5.82727845, 5.76969843, 5.02880202, 5.83813406, 5.99730747,\n",
              "       5.55325727, 5.45360505, 5.51910141, 5.53930213, 5.32412525,\n",
              "       5.46315039, 5.09492816, 6.18344281, 5.86394495, 5.944096  ,\n",
              "       5.81806087, 5.9420121 , 5.56254302, 5.35197655, 5.89746144,\n",
              "       5.24675237, 4.86591769, 5.3772025 , 5.40894668, 5.10304136,\n",
              "       5.41738682, 6.10486485, 5.85941126, 5.30798386, 5.36290422,\n",
              "       5.79547249, 5.68368897, 5.54566855, 5.80544977, 5.02170227,\n",
              "       5.9454161 , 5.29367093, 5.94524953, 5.30081607, 5.81455633,\n",
              "       5.048808  , 5.60488115, 5.54008701, 5.60488115, 6.19292766,\n",
              "       5.85184836, 5.10989247, 5.38832624, 5.73697102, 5.47487657,\n",
              "       5.38339983, 6.0124054 , 6.4903554 , 5.17508287, 5.43922511,\n",
              "       5.39809532, 5.05975099, 5.99083715, 5.37391607, 5.27598003,\n",
              "       6.46198904, 5.28759211, 5.01074715, 5.95982821, 5.07186766,\n",
              "       5.2742686 , 5.66673462, 5.46763101, 5.29583848, 5.71209457,\n",
              "       5.53269922, 5.99108325, 5.79243702, 5.75254952, 6.41313348,\n",
              "       5.10473815, 6.09307925, 5.51628312, 6.51157051, 5.35282534,\n",
              "       5.3395824 , 5.76949886, 5.15743421, 5.96134054, 5.77059428,\n",
              "       6.38810645, 5.74787325, 5.08637001, 5.19979772, 5.68331111,\n",
              "       6.00306425, 5.17508287, 6.31438152, 5.34729088, 6.58512968,\n",
              "       5.53588271, 5.35529231, 5.28322269, 5.33153071, 5.39036531,\n",
              "       6.7662177 , 6.32481104, 5.08446294, 6.05393199, 5.38359649,\n",
              "       5.6511423 , 6.24821561, 5.53735704, 5.53172931, 5.35093095,\n",
              "       5.62001507, 6.52696692, 5.46347088, 4.9607914 , 5.82990618,\n",
              "       5.56328002, 5.31411123, 5.59946254, 6.60885722, 4.8826136 ,\n",
              "       4.98531204, 5.18589906, 5.03835821, 5.65534381, 5.35791066,\n",
              "       5.24291591, 5.5297073 , 5.55946797, 5.50547352, 5.11415704,\n",
              "       6.33962302, 5.34538387, 4.98756941, 5.24017895, 5.34316671,\n",
              "       6.11460871, 6.03806556, 5.63150763, 5.87147315, 5.51566968,\n",
              "       5.28451325, 6.06163438, 5.33823527, 5.41206309, 5.74642067,\n",
              "       5.18268487, 6.19023296, 5.29579079, 5.41894715, 5.65197682,\n",
              "       5.19596984, 4.93936666, 5.06400589, 5.25267275, 6.24455   ,\n",
              "       5.2183043 , 5.13123364, 5.80269692, 5.53744329, 5.77543098,\n",
              "       5.55908232, 5.28451193, 5.70155051, 5.96672394, 6.01698618,\n",
              "       6.10501673, 5.51503149, 5.54710368, 5.22369304, 5.60877849,\n",
              "       5.47016684, 5.42846517, 5.64181308, 5.4283722 , 5.64945338,\n",
              "       5.09099053, 5.49974749, 5.06240042, 5.62713156, 5.46194725,\n",
              "       5.13194873, 5.95229305, 5.19840648, 5.51423404, 6.13250931,\n",
              "       6.30262818, 5.85532532, 5.75310805, 5.37436323, 5.73878663,\n",
              "       5.71714407, 5.04966294, 5.52952839, 5.64466989, 6.26644313,\n",
              "       5.79977609, 5.67796055, 5.3958681 , 5.16390989, 5.49799145,\n",
              "       6.32481104, 5.56254302, 5.35197655, 5.2535406 , 5.68015846,\n",
              "       5.54176456, 5.21023218, 6.38029378, 5.95229305, 5.38722363,\n",
              "       5.65862784, 5.28114609, 5.96126903, 5.94957831, 5.23376405,\n",
              "       5.12538556, 6.14524698, 5.21182078, 5.47447186, 5.58106026,\n",
              "       5.29569072, 5.15041047, 6.46965268, 5.2205565 , 5.13032904,\n",
              "       5.50379201, 5.36495828, 5.79260731, 5.95295224, 5.58463258,\n",
              "       5.7394887 , 6.10033853, 5.80486077, 5.65737121, 5.07044888,\n",
              "       6.10097415, 4.97377766, 6.22225677, 6.35431801, 5.18268487,\n",
              "       6.54335191, 4.91924589, 5.45597807, 6.07548871, 4.9607914 ,\n",
              "       5.70764404, 6.56396513, 5.23355141, 5.1001118 , 5.12387579,\n",
              "       5.40234807, 5.34735332, 5.37210422, 5.72121764, 5.85796239,\n",
              "       5.9420121 , 5.63252023, 6.25730424, 5.47754389, 5.42489463,\n",
              "       5.36102063, 5.25874574, 5.18779921, 6.49753818, 5.25436516,\n",
              "       5.702048  , 5.18488804, 5.27914325, 5.0093802 , 5.87668655,\n",
              "       5.55147784, 5.944096  , 6.02627908, 6.11146743, 5.75629207,\n",
              "       5.2278002 , 6.43557848, 5.34554178, 5.33040858, 5.85120611,\n",
              "       5.66358777, 5.7423443 , 5.99224918, 5.57069638, 6.18781146,\n",
              "       5.8592391 , 5.57176345, 5.9657149 , 6.2483537 , 5.42956023,\n",
              "       5.42776182, 5.18293609, 6.04193544, 5.40540153, 6.43493749,\n",
              "       5.58118294, 5.37221283, 5.28517579, 4.91577326, 6.03811105,\n",
              "       5.57908814, 6.2897003 , 5.80983044, 6.5371591 , 5.2205565 ,\n",
              "       5.38091314, 6.14610273, 5.85974973, 5.97643489, 5.31383909,\n",
              "       5.32476357, 4.99628572, 5.09407321, 5.2345532 , 5.14195711,\n",
              "       5.98447471, 6.24747995, 5.55175476, 5.44850236, 5.21023218,\n",
              "       5.83462439, 5.02771895, 5.46487702, 5.82401268, 6.0328361 ,\n",
              "       5.36459347, 6.20408976, 5.6953409 , 5.29571933, 5.22303007,\n",
              "       5.40067848, 6.41313348, 5.74135147, 6.25661842, 5.45461281,\n",
              "       6.57743019, 5.42022513, 5.64366637, 5.40876751, 5.36447243,\n",
              "       6.16385784, 5.40500453, 5.32529747, 5.19979772, 5.20874054,\n",
              "       6.10033853, 5.21392988, 5.55236614, 6.22609133, 5.75310805,\n",
              "       5.49584318, 5.32476357, 5.30559645, 6.20408976, 5.15205136,\n",
              "       5.10304136, 5.01084273, 5.81288871, 5.365735  , 5.18755522,\n",
              "       5.65841791, 5.81177766, 5.35236855, 6.31757295, 5.09419289,\n",
              "       5.45734421, 5.34736477, 5.25517818, 5.03369345, 6.11266316,\n",
              "       5.60157029, 5.13136652, 5.56254302, 6.52770532, 5.92594909,\n",
              "       5.18978772, 5.94050902, 6.03806556, 6.10501673, 5.59648867,\n",
              "       5.302097  , 6.22928221, 5.26210746, 5.95112807, 5.20557509,\n",
              "       5.11394293, 6.60402061, 5.42543386, 5.44142506, 5.55049705,\n",
              "       4.94288294, 5.75258985, 5.42557352, 5.58463258, 5.4249039 ,\n",
              "       5.72860234, 5.30285596, 5.35639768, 5.28659918, 5.36224781,\n",
              "       5.68015846, 5.63976147, 5.87668655, 5.85396409, 5.97285095,\n",
              "       4.93433873, 5.61579006, 5.83366939, 5.81734599, 6.57576963,\n",
              "       5.81261889, 5.76949886, 5.72953005, 5.93999176, 5.88313484,\n",
              "       6.2687106 , 6.11005199, 6.39264854, 5.7608447 , 5.46774385,\n",
              "       5.38441383, 6.19417441, 5.20529135, 5.47549999, 5.96212806,\n",
              "       6.42847212, 4.91528387, 6.0032972 , 6.36978275, 5.13041459,\n",
              "       5.76075637, 5.97176327, 5.29245959, 4.97019805, 5.77950666,\n",
              "       6.32928065, 5.02966706, 6.45153068, 5.13828479, 5.20595812,\n",
              "       5.43903684, 5.54710368, 5.30946448, 5.0243764 , 5.35216251,\n",
              "       5.923241  , 5.8630745 , 6.63308694, 5.77277116, 5.8369014 ,\n",
              "       6.06016549, 5.55327654, 6.09545807, 5.18978772, 6.0271226 ,\n",
              "       4.89951267, 5.2661687 , 5.83410776, 5.46356847, 6.117577  ,\n",
              "       5.64357343, 5.44995858, 5.28659918, 5.41403738, 5.51423404,\n",
              "       5.1644197 , 6.15234737, 5.50114094, 5.46370582, 5.54176456,\n",
              "       5.58560228, 6.18781146, 6.43233427, 5.41578038, 5.85105563,\n",
              "       5.35041089, 5.40121375, 6.27147362])"
            ]
          },
          "metadata": {},
          "execution_count": 135
        }
      ]
    },
    {
      "cell_type": "code",
      "metadata": {
        "colab": {
          "base_uri": "https://localhost:8080/"
        },
        "id": "-dACVhz-vN8Z",
        "outputId": "05c9085e-b5ad-44ed-e9de-399cd53f82dd"
      },
      "source": [
        "test_pred = regressor.predict(x_test)\n",
        "test_pred"
      ],
      "execution_count": 136,
      "outputs": [
        {
          "output_type": "execute_result",
          "data": {
            "text/plain": [
              "array([5.36094449, 5.58992635, 5.84632001, 5.21129805, 6.33869621,\n",
              "       5.76650258, 5.60533804, 6.50658505, 6.04255841, 5.65534381,\n",
              "       5.19689375, 5.46356847, 5.56328002, 5.17790265, 5.91815996,\n",
              "       5.74888867, 6.06012509, 5.25233889, 5.47845415, 5.28114609,\n",
              "       5.07110072, 5.87668655, 6.40555659, 5.44808725, 5.93142205,\n",
              "       5.56959179, 5.53735704, 5.14206735, 6.25965396, 5.24587896,\n",
              "       5.01271247, 5.30037163, 5.57908814, 5.47810179, 5.57682762,\n",
              "       6.10194579, 5.19913667, 6.16746762, 5.33839477, 5.49986108,\n",
              "       5.54795218, 6.02179135, 5.75798882, 6.47663937, 5.43464584,\n",
              "       5.24664021, 5.95112807, 5.45597807, 5.48332915, 5.41897775,\n",
              "       6.34915114, 6.14610273, 6.17517887, 5.80486077, 5.7046034 ,\n",
              "       5.27900823, 5.34984778, 5.38123567, 6.23091702, 5.40134486,\n",
              "       5.13041459, 5.38100851, 5.30242381, 5.55889889, 5.31077795,\n",
              "       5.37703843, 5.0367709 , 5.64357343, 5.03202989, 5.35269419,\n",
              "       5.48182707, 6.46480176, 5.70372456, 5.59014815, 5.58626505,\n",
              "       5.65841791, 5.85913034, 5.20874054, 5.76707972, 5.25052932,\n",
              "       5.73219506, 5.40084227, 6.70694109, 5.68258548, 5.5619986 ,\n",
              "       5.4428965 , 5.55336025, 6.07222788, 6.41293375, 5.53588271,\n",
              "       5.70372456, 4.60970469, 6.11770739, 6.55100119, 6.01479514,\n",
              "       5.50327967, 5.48088974, 6.18781146, 5.95445205, 5.06240042,\n",
              "       5.21182078, 5.79694072, 5.74890287, 5.09407321, 5.20221459,\n",
              "       5.30479756, 5.99224918, 5.6720743 , 5.04709659, 4.96546574,\n",
              "       6.49753818, 5.79233037, 6.26977452, 5.45517709, 5.74676445,\n",
              "       5.78351459, 4.98061945, 5.18293609, 5.09371431, 5.12349215,\n",
              "       5.29944762, 6.57397252, 6.71436867, 5.4434125 , 6.3306618 ,\n",
              "       6.43557848, 6.2691704 , 5.702048  , 5.90070196, 5.7990547 ,\n",
              "       5.26210746, 5.72121764, 5.84846129, 5.25084944, 5.71209457,\n",
              "       5.55000501, 5.01989086, 6.16320655, 5.4480762 , 5.4599716 ,\n",
              "       5.96126903, 6.60885722, 6.23266531, 5.9201769 , 5.2012143 ,\n",
              "       5.45717177, 6.43152612, 5.05233104, 6.13712547, 6.06920271,\n",
              "       5.2742686 , 5.31232919, 5.5464421 , 5.49568337, 5.02696415,\n",
              "       5.19741156, 5.45461281, 6.20807214, 5.51522766, 5.11638609,\n",
              "       5.58992635, 6.22991983, 6.0582735 , 4.98807302, 5.84256303,\n",
              "       5.63677462, 5.4097403 , 5.07052446, 6.00098075, 5.92180113,\n",
              "       5.17868227, 5.91318476, 5.39478168, 5.06216705, 5.3739149 ,\n",
              "       5.6189062 , 5.48088974, 6.56530592, 5.79233037, 6.20691555,\n",
              "       5.7343648 , 4.93768396, 5.49094112, 5.2183043 , 4.86591713,\n",
              "       5.43903684, 6.30029301, 5.28322269, 5.28670969, 6.10147292,\n",
              "       5.8587511 , 5.11286333, 6.14936376, 6.1360022 , 5.52408659,\n",
              "       5.00900521, 5.2527576 , 6.69638725, 6.26977452, 5.19494424,\n",
              "       5.30871056, 6.24297131, 5.4249039 , 5.75258985, 5.67801159,\n",
              "       5.66412045, 5.80442253, 5.02030377, 5.22639192, 6.17689987,\n",
              "       5.55336025, 5.06990928, 5.25460039, 5.84129067, 5.30444568,\n",
              "       5.39656571, 6.08773471, 5.77197269, 5.94380838, 5.15825074,\n",
              "       5.2340446 , 5.33978123, 6.04732996, 5.76475963, 5.74888867,\n",
              "       5.94691428, 5.60689204, 5.06585007, 5.45717177, 4.94045114,\n",
              "       5.26652639, 5.21381002, 5.50289603, 5.52322181, 5.99828177,\n",
              "       5.39383644])"
            ]
          },
          "metadata": {},
          "execution_count": 136
        }
      ]
    },
    {
      "cell_type": "code",
      "metadata": {
        "colab": {
          "base_uri": "https://localhost:8080/"
        },
        "id": "1iG35a-3vN_7",
        "outputId": "f459a27c-9f2f-4f5d-d5a5-619211ee2974"
      },
      "source": [
        "train_rmse = metrics.mean_squared_error(train_pred, y_train) ** 0.5\n",
        "train_rmse"
      ],
      "execution_count": 137,
      "outputs": [
        {
          "output_type": "execute_result",
          "data": {
            "text/plain": [
              "0.5673026920128944"
            ]
          },
          "metadata": {},
          "execution_count": 137
        }
      ]
    },
    {
      "cell_type": "code",
      "metadata": {
        "colab": {
          "base_uri": "https://localhost:8080/"
        },
        "id": "BFazpNTrwQTx",
        "outputId": "04dd06c0-891a-4e69-a7ae-07798f331d87"
      },
      "source": [
        "test_rmse = metrics.mean_squared_error(test_pred, y_test) ** 0.5\n",
        "test_rmse"
      ],
      "execution_count": 138,
      "outputs": [
        {
          "output_type": "execute_result",
          "data": {
            "text/plain": [
              "0.5828136149884559"
            ]
          },
          "metadata": {},
          "execution_count": 138
        }
      ]
    },
    {
      "cell_type": "code",
      "metadata": {
        "colab": {
          "base_uri": "https://localhost:8080/"
        },
        "id": "bo9vmOa1wQXN",
        "outputId": "f160d6a5-64e8-4fca-af4d-9675d9372c3a"
      },
      "source": [
        "predicted_data = np.round_(test_pred)\n",
        "predicted_data"
      ],
      "execution_count": 139,
      "outputs": [
        {
          "output_type": "execute_result",
          "data": {
            "text/plain": [
              "array([5., 6., 6., 5., 6., 6., 6., 7., 6., 6., 5., 5., 6., 5., 6., 6., 6.,\n",
              "       5., 5., 5., 5., 6., 6., 5., 6., 6., 6., 5., 6., 5., 5., 5., 6., 5.,\n",
              "       6., 6., 5., 6., 5., 5., 6., 6., 6., 6., 5., 5., 6., 5., 5., 5., 6.,\n",
              "       6., 6., 6., 6., 5., 5., 5., 6., 5., 5., 5., 5., 6., 5., 5., 5., 6.,\n",
              "       5., 5., 5., 6., 6., 6., 6., 6., 6., 5., 6., 5., 6., 5., 7., 6., 6.,\n",
              "       5., 6., 6., 6., 6., 6., 5., 6., 7., 6., 6., 5., 6., 6., 5., 5., 6.,\n",
              "       6., 5., 5., 5., 6., 6., 5., 5., 6., 6., 6., 5., 6., 6., 5., 5., 5.,\n",
              "       5., 5., 7., 7., 5., 6., 6., 6., 6., 6., 6., 5., 6., 6., 5., 6., 6.,\n",
              "       5., 6., 5., 5., 6., 7., 6., 6., 5., 5., 6., 5., 6., 6., 5., 5., 6.,\n",
              "       5., 5., 5., 5., 6., 6., 5., 6., 6., 6., 5., 6., 6., 5., 5., 6., 6.,\n",
              "       5., 6., 5., 5., 5., 6., 5., 7., 6., 6., 6., 5., 5., 5., 5., 5., 6.,\n",
              "       5., 5., 6., 6., 5., 6., 6., 6., 5., 5., 7., 6., 5., 5., 6., 5., 6.,\n",
              "       6., 6., 6., 5., 5., 6., 6., 5., 5., 6., 5., 5., 6., 6., 6., 5., 5.,\n",
              "       5., 6., 6., 6., 6., 6., 5., 5., 5., 5., 5., 6., 6., 6., 5.])"
            ]
          },
          "metadata": {},
          "execution_count": 139
        }
      ]
    },
    {
      "cell_type": "code",
      "metadata": {
        "colab": {
          "base_uri": "https://localhost:8080/"
        },
        "id": "xnior9yzwQcx",
        "outputId": "53544af8-b243-406b-ef31-bf940fbd1308"
      },
      "source": [
        "print('Mean Absolute Error:', metrics.mean_absolute_error(y_test, test_pred))\n",
        "print('Mean Squared Error:', metrics.mean_squared_error(y_test, test_pred))\n",
        "rmse = np.sqrt(metrics.mean_squared_error(y_test, test_pred))\n",
        "print('Root Mean Squared Error:',rmse)"
      ],
      "execution_count": 140,
      "outputs": [
        {
          "output_type": "stream",
          "text": [
            "Mean Absolute Error: 0.4694493011459596\n",
            "Mean Squared Error: 0.33967170981591205\n",
            "Root Mean Squared Error: 0.5828136149884559\n"
          ],
          "name": "stdout"
        }
      ]
    },
    {
      "cell_type": "code",
      "metadata": {
        "colab": {
          "base_uri": "https://localhost:8080/"
        },
        "id": "zbcbZK0kwQgN",
        "outputId": "fef76efc-7f5b-43b4-c76d-2d966048e32c"
      },
      "source": [
        "from sklearn.metrics import r2_score\n",
        "r2_score(y_test,test_pred)"
      ],
      "execution_count": 141,
      "outputs": [
        {
          "output_type": "execute_result",
          "data": {
            "text/plain": [
              "0.40568121544649927"
            ]
          },
          "metadata": {},
          "execution_count": 141
        }
      ]
    },
    {
      "cell_type": "code",
      "metadata": {
        "colab": {
          "base_uri": "https://localhost:8080/",
          "height": 328
        },
        "id": "-5zA7nONwlcR",
        "outputId": "6ad90da0-7b1a-49ce-9cf0-38f893207fe3"
      },
      "source": [
        "coeffecients = pd.DataFrame(regressor.coef_,features)\n",
        "coeffecients.columns = ['Coeffecient']\n",
        "coeffecients"
      ],
      "execution_count": 142,
      "outputs": [
        {
          "output_type": "execute_result",
          "data": {
            "text/html": [
              "<div>\n",
              "<style scoped>\n",
              "    .dataframe tbody tr th:only-of-type {\n",
              "        vertical-align: middle;\n",
              "    }\n",
              "\n",
              "    .dataframe tbody tr th {\n",
              "        vertical-align: top;\n",
              "    }\n",
              "\n",
              "    .dataframe thead th {\n",
              "        text-align: right;\n",
              "    }\n",
              "</style>\n",
              "<table border=\"1\" class=\"dataframe\">\n",
              "  <thead>\n",
              "    <tr style=\"text-align: right;\">\n",
              "      <th></th>\n",
              "      <th>Coeffecient</th>\n",
              "    </tr>\n",
              "  </thead>\n",
              "  <tbody>\n",
              "    <tr>\n",
              "      <th>fixed acidity</th>\n",
              "      <td>0.028798</td>\n",
              "    </tr>\n",
              "    <tr>\n",
              "      <th>volatile acidity</th>\n",
              "      <td>-0.703313</td>\n",
              "    </tr>\n",
              "    <tr>\n",
              "      <th>citric acid</th>\n",
              "      <td>-0.304787</td>\n",
              "    </tr>\n",
              "    <tr>\n",
              "      <th>chlorides</th>\n",
              "      <td>-1.570790</td>\n",
              "    </tr>\n",
              "    <tr>\n",
              "      <th>total sulfur dioxide</th>\n",
              "      <td>-0.001381</td>\n",
              "    </tr>\n",
              "    <tr>\n",
              "      <th>density</th>\n",
              "      <td>-19.721190</td>\n",
              "    </tr>\n",
              "    <tr>\n",
              "      <th>pH</th>\n",
              "      <td>-0.520009</td>\n",
              "    </tr>\n",
              "    <tr>\n",
              "      <th>sulphates</th>\n",
              "      <td>1.798007</td>\n",
              "    </tr>\n",
              "    <tr>\n",
              "      <th>alcohol</th>\n",
              "      <td>0.254783</td>\n",
              "    </tr>\n",
              "  </tbody>\n",
              "</table>\n",
              "</div>"
            ],
            "text/plain": [
              "                      Coeffecient\n",
              "fixed acidity            0.028798\n",
              "volatile acidity        -0.703313\n",
              "citric acid             -0.304787\n",
              "chlorides               -1.570790\n",
              "total sulfur dioxide    -0.001381\n",
              "density                -19.721190\n",
              "pH                      -0.520009\n",
              "sulphates                1.798007\n",
              "alcohol                  0.254783"
            ]
          },
          "metadata": {},
          "execution_count": 142
        }
      ]
    },
    {
      "cell_type": "code",
      "metadata": {
        "id": "9YddUV4U1jPR"
      },
      "source": [
        ""
      ],
      "execution_count": null,
      "outputs": []
    },
    {
      "cell_type": "markdown",
      "metadata": {
        "id": "hutObWyA1lFp"
      },
      "source": [
        "Data Preprocessing\n"
      ]
    },
    {
      "cell_type": "code",
      "metadata": {
        "id": "q50qSI3R1jmr",
        "outputId": "c2772c8f-3637-4777-95e0-f5fc04ecb286",
        "colab": {
          "base_uri": "https://localhost:8080/",
          "height": 238
        }
      },
      "source": [
        "df.head()"
      ],
      "execution_count": 143,
      "outputs": [
        {
          "output_type": "execute_result",
          "data": {
            "text/html": [
              "<div>\n",
              "<style scoped>\n",
              "    .dataframe tbody tr th:only-of-type {\n",
              "        vertical-align: middle;\n",
              "    }\n",
              "\n",
              "    .dataframe tbody tr th {\n",
              "        vertical-align: top;\n",
              "    }\n",
              "\n",
              "    .dataframe thead th {\n",
              "        text-align: right;\n",
              "    }\n",
              "</style>\n",
              "<table border=\"1\" class=\"dataframe\">\n",
              "  <thead>\n",
              "    <tr style=\"text-align: right;\">\n",
              "      <th></th>\n",
              "      <th>fixed acidity</th>\n",
              "      <th>volatile acidity</th>\n",
              "      <th>citric acid</th>\n",
              "      <th>residual sugar</th>\n",
              "      <th>chlorides</th>\n",
              "      <th>free sulfur dioxide</th>\n",
              "      <th>total sulfur dioxide</th>\n",
              "      <th>density</th>\n",
              "      <th>pH</th>\n",
              "      <th>sulphates</th>\n",
              "      <th>alcohol</th>\n",
              "      <th>quality</th>\n",
              "    </tr>\n",
              "  </thead>\n",
              "  <tbody>\n",
              "    <tr>\n",
              "      <th>0</th>\n",
              "      <td>7.4</td>\n",
              "      <td>0.70</td>\n",
              "      <td>0.00</td>\n",
              "      <td>1.9</td>\n",
              "      <td>0.076</td>\n",
              "      <td>11.0</td>\n",
              "      <td>34.0</td>\n",
              "      <td>0.9978</td>\n",
              "      <td>3.51</td>\n",
              "      <td>0.56</td>\n",
              "      <td>9.4</td>\n",
              "      <td>5</td>\n",
              "    </tr>\n",
              "    <tr>\n",
              "      <th>1</th>\n",
              "      <td>7.8</td>\n",
              "      <td>0.88</td>\n",
              "      <td>0.00</td>\n",
              "      <td>2.6</td>\n",
              "      <td>0.098</td>\n",
              "      <td>25.0</td>\n",
              "      <td>67.0</td>\n",
              "      <td>0.9968</td>\n",
              "      <td>3.20</td>\n",
              "      <td>0.68</td>\n",
              "      <td>9.8</td>\n",
              "      <td>5</td>\n",
              "    </tr>\n",
              "    <tr>\n",
              "      <th>2</th>\n",
              "      <td>7.8</td>\n",
              "      <td>0.76</td>\n",
              "      <td>0.04</td>\n",
              "      <td>2.3</td>\n",
              "      <td>0.092</td>\n",
              "      <td>15.0</td>\n",
              "      <td>54.0</td>\n",
              "      <td>0.9970</td>\n",
              "      <td>3.26</td>\n",
              "      <td>0.65</td>\n",
              "      <td>9.8</td>\n",
              "      <td>5</td>\n",
              "    </tr>\n",
              "    <tr>\n",
              "      <th>3</th>\n",
              "      <td>11.2</td>\n",
              "      <td>0.28</td>\n",
              "      <td>0.56</td>\n",
              "      <td>1.9</td>\n",
              "      <td>0.075</td>\n",
              "      <td>17.0</td>\n",
              "      <td>60.0</td>\n",
              "      <td>0.9980</td>\n",
              "      <td>3.16</td>\n",
              "      <td>0.58</td>\n",
              "      <td>9.8</td>\n",
              "      <td>6</td>\n",
              "    </tr>\n",
              "    <tr>\n",
              "      <th>4</th>\n",
              "      <td>7.4</td>\n",
              "      <td>0.70</td>\n",
              "      <td>0.00</td>\n",
              "      <td>1.9</td>\n",
              "      <td>0.076</td>\n",
              "      <td>11.0</td>\n",
              "      <td>34.0</td>\n",
              "      <td>0.9978</td>\n",
              "      <td>3.51</td>\n",
              "      <td>0.56</td>\n",
              "      <td>9.4</td>\n",
              "      <td>5</td>\n",
              "    </tr>\n",
              "  </tbody>\n",
              "</table>\n",
              "</div>"
            ],
            "text/plain": [
              "   fixed acidity  volatile acidity  citric acid  ...  sulphates  alcohol  quality\n",
              "0            7.4              0.70         0.00  ...       0.56      9.4        5\n",
              "1            7.8              0.88         0.00  ...       0.68      9.8        5\n",
              "2            7.8              0.76         0.04  ...       0.65      9.8        5\n",
              "3           11.2              0.28         0.56  ...       0.58      9.8        6\n",
              "4            7.4              0.70         0.00  ...       0.56      9.4        5\n",
              "\n",
              "[5 rows x 12 columns]"
            ]
          },
          "metadata": {},
          "execution_count": 143
        }
      ]
    },
    {
      "cell_type": "code",
      "metadata": {
        "id": "k99XdAhQ1jp-",
        "outputId": "552e0a18-d4ae-4ec9-e175-248dc1a8ac6b",
        "colab": {
          "base_uri": "https://localhost:8080/"
        }
      },
      "source": [
        "correlations.sort_values(ascending=False)"
      ],
      "execution_count": 144,
      "outputs": [
        {
          "output_type": "execute_result",
          "data": {
            "text/plain": [
              "alcohol                 0.492551\n",
              "sulphates               0.413533\n",
              "citric acid             0.212133\n",
              "fixed acidity           0.113422\n",
              "residual sugar          0.007934\n",
              "free sulfur dioxide    -0.003609\n",
              "pH                     -0.060288\n",
              "chlorides              -0.190869\n",
              "total sulfur dioxide   -0.203374\n",
              "density                -0.215375\n",
              "volatile acidity       -0.346962\n",
              "Name: quality, dtype: float64"
            ]
          },
          "metadata": {},
          "execution_count": 144
        }
      ]
    },
    {
      "cell_type": "code",
      "metadata": {
        "id": "q5ROWNB61jte"
      },
      "source": [
        "X1 = DF2[['alcohol', 'sulphates', 'citric acid', 'fixed acidity', 'residual sugar']]"
      ],
      "execution_count": 146,
      "outputs": []
    },
    {
      "cell_type": "code",
      "metadata": {
        "id": "vBeQny3B1jw8"
      },
      "source": [
        "Y1 = DF2['quality']"
      ],
      "execution_count": 147,
      "outputs": []
    },
    {
      "cell_type": "code",
      "metadata": {
        "id": "e3yCY9Dt1j0J"
      },
      "source": [
        "from sklearn.model_selection import train_test_split\n",
        "x_train, x_test, y_train, y_test = train_test_split(X1,Y1,test_size=0.2, random_state=0)"
      ],
      "execution_count": 148,
      "outputs": []
    },
    {
      "cell_type": "code",
      "metadata": {
        "id": "HawBIdOV1j3c"
      },
      "source": [
        "from sklearn.preprocessing import StandardScaler\n",
        "\n",
        "stdscale = StandardScaler().fit(x_train)\n",
        "x_train_std = stdscale.transform(x_train)\n",
        "x_test_std = stdscale.transform(x_test)"
      ],
      "execution_count": 149,
      "outputs": []
    },
    {
      "cell_type": "code",
      "metadata": {
        "id": "FWr6xkPZ1j7B"
      },
      "source": [
        "from sklearn.metrics import accuracy_score"
      ],
      "execution_count": 150,
      "outputs": []
    },
    {
      "cell_type": "code",
      "metadata": {
        "id": "87jNyz-11j-W",
        "outputId": "71c7f4fa-56e9-43ab-f383-1713a17b8c6b",
        "colab": {
          "base_uri": "https://localhost:8080/"
        }
      },
      "source": [
        "from sklearn.linear_model import LogisticRegression\n",
        "lr = LogisticRegression()\n",
        "lr.fit(x_train_std, y_train)\n",
        "predictions = lr.predict(x_test_std)\n",
        "accuracy_score(y_test, predictions)"
      ],
      "execution_count": 152,
      "outputs": [
        {
          "output_type": "execute_result",
          "data": {
            "text/plain": [
              "0.597457627118644"
            ]
          },
          "metadata": {},
          "execution_count": 152
        }
      ]
    },
    {
      "cell_type": "code",
      "metadata": {
        "id": "XTga1RfN1kBw"
      },
      "source": [
        ""
      ],
      "execution_count": null,
      "outputs": []
    }
  ]
}